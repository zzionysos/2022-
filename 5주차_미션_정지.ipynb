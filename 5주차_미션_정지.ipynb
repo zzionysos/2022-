{
  "nbformat": 4,
  "nbformat_minor": 0,
  "metadata": {
    "colab": {
      "name": "5주차 미션_정지.ipynb",
      "provenance": [],
      "authorship_tag": "ABX9TyOAQqOYfY9CWlZctD8kl+Gy",
      "include_colab_link": true
    },
    "kernelspec": {
      "name": "python3",
      "display_name": "Python 3"
    },
    "language_info": {
      "name": "python"
    }
  },
  "cells": [
    {
      "cell_type": "markdown",
      "metadata": {
        "id": "view-in-github",
        "colab_type": "text"
      },
      "source": [
        "<a href=\"https://colab.research.google.com/github/zzionysos/2022-/blob/main/5%EC%A3%BC%EC%B0%A8_%EB%AF%B8%EC%85%98_%EC%A0%95%EC%A7%80.ipynb\" target=\"_parent\"><img src=\"https://colab.research.google.com/assets/colab-badge.svg\" alt=\"Open In Colab\"/></a>"
      ]
    },
    {
      "cell_type": "markdown",
      "source": [
        "# <학습 내용 정리 퀴즈 프로그램>\n",
        "#### 띵커벨 등 퀴즈 프로그램을 만들어주는 학습 사이트에서 아이디어를 얻었습니다.\n",
        "#### 교사가 csv 파일에 퀴즈 문제와 정답을 입력해 저장한 후, 업로드하면 퀴즈 프로그램이 만들어집니다.\n",
        "#### 예시는 초등 6학년 1학기 사회 10문제로 만들었지만, 다양한 교과로 문제 개수를 다르게 하여 만들 수 있습니다."
      ],
      "metadata": {
        "id": "wecLyVJN7KDl"
      }
    },
    {
      "cell_type": "code",
      "execution_count": 31,
      "metadata": {
        "colab": {
          "base_uri": "https://localhost:8080/"
        },
        "id": "G2n0-wspnLa-",
        "outputId": "a19cb615-37ff-4b98-d1cf-27b5bc063f0c"
      },
      "outputs": [
        {
          "output_type": "stream",
          "name": "stdout",
          "text": [
            "['1961년 박정희가 군인들을 동원해 정권을 잡은 사건은 무엇인가요?', '5·16 군사정변']\n",
            "['우리나라의 첫 번째 대통령이었던 OOO은(는) 헌법을 바꿔 가며 계속 대통령이 되어 독재 정치를 이어 나갔습니다. 빈칸에 알맞은 인물을 쓰세요.', '이승만']\n",
            "['박정희의 사망 후 국민들은 민주주의 사회가 될 것이라고 기대했지만, OOO이(가) 중심이 된 군인들이 또다시 정변을 일으켰습니다. 빈칸에 들어갈 인물을 쓰세요.', '전두환']\n",
            "['OO OO는 선거일 기준으로 만 18세 이상의 국민이면 누구나 투표할 수 있다는 원칙입니다. 빈칸에 들어갈 선거의 원칙을 쓰세요.', '보통 선거']\n",
            "['대통령이 외국을 방문하거나 특별한 이유로 일하지 못할 때 대통령의 임무를 대신하는 사람은 누구입니까?', '국무총리']\n",
            "['대통령이나 국무총리와 같이 지위가 높은 공무원이 큰 잘못을 저질러 국회에서 파면을 요구하면 이를 심판하는 일을 하는 기관은 어디인가요?', '헌법재판소']\n",
            "['다음과 같은 결론을 이끌어낸 사건은 무엇인가요? \"당시 여당 대표는 직선제를 포함한 시민들의 민주화 요구를 받아들이겠다고 발표했습니다.\"', '6월 민주 항쟁']\n",
            "['다음과 같은 내용이 명시되어 있는 우리나라 최고의 법규는 무엇인가요? \"대한민국의 주권은 국민에게 있고, 모든 권력은 국민으로부터 나온다.\"', '헌법']\n",
            "['국회에서 나라의 중요한 일을 의논하고 결정하는 사람은 누구입니까?', '국회의원']\n",
            "['국회, 정부, 법원이 국가 권력을 나누어 맡는 제도를 무엇이라고 하나요?', '삼권 분립']\n"
          ]
        }
      ],
      "source": [
        "# 문제와 답을 출력해 보여드리기 위해 작성한 코드입니다.\n",
        "import csv\n",
        "data = csv.reader(open('퀴즈.csv'))\n",
        "next(data)\n",
        "for row in data:\n",
        "  print(row)"
      ]
    },
    {
      "cell_type": "code",
      "source": [
        "import random\n",
        "import time\n",
        "import csv\n",
        "\n",
        "data = csv.reader(open('퀴즈.csv'))\n",
        "next(data)\n",
        "\n",
        "# 문제 리스트와 답안 리스트 만들기\n",
        "questions = []\n",
        "answers = []\n",
        "\n",
        "# 리스트에 값 저장하기\n",
        "for row in data:\n",
        "  questions.append(row[0])\n",
        "  answers.append(row[1])\n",
        "\n",
        "# 변수 만들기\n",
        "i = 0 # 문제 번호\n",
        "c = 0 # 맞힌 개수\n",
        "\n",
        "# 학생 이름 입력, 시작\n",
        "name = input('이름을 입력하세요. : ')\n",
        "print('안녕하세요, ' + name + '님! 사회 1학기 1단원 복습 퀴즈를 시작하겠습니다.')\n",
        "time.sleep(2)\n",
        "\n",
        "# 변수를 통한 문제 불러오기(문제가 0개이므로 10이 되기 전까지 반복)\n",
        "while i < 10:\n",
        "  input_answers = input(questions[i] + ' >>> ')\n",
        "  if input_answers == answers[i]:\n",
        "    print('정답입니다!')\n",
        "    i = i + 1 # 문제 번호 값이 1 증가\n",
        "    c = c + 1 # 맞힌 개수 1 증가\n",
        "\n",
        "  elif input_answers != answers[i]:\n",
        "    print('오답입니다! 정답은 \"' +answers[i]+'\"입니다.')\n",
        "    i = i + 1 # 문제 번호 값이 1 증가\n",
        "  time.sleep(2)\n",
        "\n",
        "else:\n",
        "  print('수고하셨습니다! 퀴즈가 종료되었습니다.')\n",
        "  time.sleep(1)\n",
        "  print(name + '님은 총 ' + str(len(questions)) + ' 문제 중 ' + str(c) + ' 문제를 맞혔습니다. 화면을 캡처해서 담임선생님께 보내주세요.')\n",
        "  "
      ],
      "metadata": {
        "colab": {
          "base_uri": "https://localhost:8080/"
        },
        "id": "eTCvMKCIuUP2",
        "outputId": "58d94cca-0c49-4aa1-c44d-b5ca28aca70e"
      },
      "execution_count": 33,
      "outputs": [
        {
          "output_type": "stream",
          "name": "stdout",
          "text": [
            "이름을 입력하세요. : 정지\n",
            "안녕하세요, 정지님! 사회 1학기 1단원 복습 퀴즈를 시작하겠습니다.\n",
            "1961년 박정희가 군인들을 동원해 정권을 잡은 사건은 무엇인가요? >>> 틀려볼게요.\n",
            "오답입니다! 정답은 \"5·16 군사정변\"입니다.\n",
            "우리나라의 첫 번째 대통령이었던 OOO은(는) 헌법을 바꿔 가며 계속 대통령이 되어 독재 정치를 이어 나갔습니다. 빈칸에 알맞은 인물을 쓰세요. >>> 이승만\n",
            "정답입니다!\n",
            "박정희의 사망 후 국민들은 민주주의 사회가 될 것이라고 기대했지만, OOO이(가) 중심이 된 군인들이 또다시 정변을 일으켰습니다. 빈칸에 들어갈 인물을 쓰세요. >>> 틀리기\n",
            "오답입니다! 정답은 \"전두환\"입니다.\n",
            "OO OO는 선거일 기준으로 만 18세 이상의 국민이면 누구나 투표할 수 있다는 원칙입니다. 빈칸에 들어갈 선거의 원칙을 쓰세요. >>> 보통 선거\n",
            "정답입니다!\n",
            "대통령이 외국을 방문하거나 특별한 이유로 일하지 못할 때 대통령의 임무를 대신하는 사람은 누구입니까? >>> 틀리기\n",
            "오답입니다! 정답은 \"국무총리\"입니다.\n",
            "대통령이나 국무총리와 같이 지위가 높은 공무원이 큰 잘못을 저질러 국회에서 파면을 요구하면 이를 심판하는 일을 하는 기관은 어디인가요? >>> 헌법재판소\n",
            "정답입니다!\n",
            "다음과 같은 결론을 이끌어낸 사건은 무엇인가요? \"당시 여당 대표는 직선제를 포함한 시민들의 민주화 요구를 받아들이겠다고 발표했습니다.\" >>> 6월 민주 항쟁\n",
            "정답입니다!\n",
            "다음과 같은 내용이 명시되어 있는 우리나라 최고의 법규는 무엇인가요? \"대한민국의 주권은 국민에게 있고, 모든 권력은 국민으로부터 나온다.\" >>> 헌법\n",
            "정답입니다!\n",
            "국회에서 나라의 중요한 일을 의논하고 결정하는 사람은 누구입니까? >>> 국회의원\n",
            "정답입니다!\n",
            "국회, 정부, 법원이 국가 권력을 나누어 맡는 제도를 무엇이라고 하나요? >>> 삼권 분립\n",
            "정답입니다!\n",
            "수고하셨습니다! 퀴즈가 종료되었습니다.\n",
            "정지님은 총 10 문제 중 7 문제를 맞혔습니다. 화면을 캡처해서 담임선생님께 보내주세요.\n"
          ]
        }
      ]
    },
    {
      "cell_type": "code",
      "source": [
        ""
      ],
      "metadata": {
        "id": "NnXknQQhvHAm"
      },
      "execution_count": null,
      "outputs": []
    }
  ]
}