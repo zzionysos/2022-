{
  "nbformat": 4,
  "nbformat_minor": 0,
  "metadata": {
    "colab": {
      "provenance": [],
      "include_colab_link": true
    },
    "kernelspec": {
      "name": "python3",
      "display_name": "Python 3"
    },
    "language_info": {
      "name": "python"
    }
  },
  "cells": [
    {
      "cell_type": "markdown",
      "metadata": {
        "id": "view-in-github",
        "colab_type": "text"
      },
      "source": [
        "<a href=\"https://colab.research.google.com/github/zzionysos/2022-/blob/main/%EC%88%98%ED%95%99%EA%B3%BC_%ED%94%84%EB%A1%9C%EA%B7%B8%EB%9E%98%EB%B0%8D%EC%9D%98_%EB%A7%8C%EB%82%A8_4_8%EC%97%B0%EC%88%98.ipynb\" target=\"_parent\"><img src=\"https://colab.research.google.com/assets/colab-badge.svg\" alt=\"Open In Colab\"/></a>"
      ]
    },
    {
      "cell_type": "markdown",
      "source": [
        "선생님들~~ 파일-Drive에 사본 저장 하셔서 개인 구글 드라이브에 있는 사본으로 수업 참여 부탁드릴게요 ㅎㅎ 이게 원본이라서 수정하시면 모두의 파일이 수정됩니다!!"
      ],
      "metadata": {
        "id": "GT4uvT16zUV2"
      }
    },
    {
      "cell_type": "markdown",
      "source": [
        "파이썬에서 터틀이라는 모듈을 사용해서 다양한 도형을 그려보고 응용하여 스트링아트도 표현하려고 합니다!\n",
        "\n",
        "\n",
        "먼저 터틀을 설치해줍니다!\n",
        "\n",
        "!pip3 install ColabTurtle\n",
        "\n",
        "재생버튼 눌러서 실행하시고 다운로드가 다 될때까지 기다립니다.\n"
      ],
      "metadata": {
        "id": "nqylMLoq8zY2"
      }
    },
    {
      "cell_type": "code",
      "execution_count": null,
      "metadata": {
        "colab": {
          "base_uri": "https://localhost:8080/"
        },
        "id": "KAj8YcDBo0sk",
        "outputId": "0cbf6575-5920-4669-cdd7-ce25d10fc200"
      },
      "outputs": [
        {
          "output_type": "stream",
          "name": "stdout",
          "text": [
            "Looking in indexes: https://pypi.org/simple, https://us-python.pkg.dev/colab-wheels/public/simple/\n",
            "Requirement already satisfied: ColabTurtle in /usr/local/lib/python3.9/dist-packages (2.1.0)\n"
          ]
        }
      ],
      "source": [
        "!pip3 install ColabTurtle"
      ]
    },
    {
      "cell_type": "markdown",
      "source": [
        "터틀을 실행시키는 방법\n",
        "\n",
        "import ColabTurtle.Turtle as t\n",
        "\n",
        "t.initializeTurtle()"
      ],
      "metadata": {
        "id": "b5agFmzM9Tk5"
      }
    },
    {
      "cell_type": "code",
      "source": [
        "import ColabTurtle.Turtle as t"
      ],
      "metadata": {
        "id": "xYULimYqkzFq"
      },
      "execution_count": null,
      "outputs": []
    },
    {
      "cell_type": "code",
      "source": [
        "t.initializeTurtle()\n",
        "t.speed(10)   #거북이의 속도를 빠르게 합니다.\n",
        "for i in range(3):\n",
        "    t.forward(100)\n",
        "    t.left(120)\n",
        "\n",
        "#외각을 120도 회전하여 내각이 60도인 정삼각형을 만듭니다."
      ],
      "metadata": {
        "colab": {
          "base_uri": "https://localhost:8080/",
          "height": 520
        },
        "id": "AXDAkEk3pY5D",
        "outputId": "09b56ac1-e5f5-4aaf-d22e-84574f920276"
      },
      "execution_count": null,
      "outputs": [
        {
          "output_type": "display_data",
          "data": {
            "text/plain": [
              "<IPython.core.display.HTML object>"
            ],
            "text/html": [
              "\n",
              "      <svg width=\"800\" height=\"500\">\n",
              "        <rect width=\"100%\" height=\"100%\" fill=\"black\"/>\n",
              "        <line x1=\"400\" y1=\"250\" x2=\"400.0\" y2=\"150.0\" stroke-linecap=\"round\" style=\"stroke:white;stroke-width:4\"/><line x1=\"400.0\" y1=\"150.0\" x2=\"313.397\" y2=\"200.0\" stroke-linecap=\"round\" style=\"stroke:white;stroke-width:4\"/><line x1=\"313.397\" y1=\"200.0\" x2=\"400.0\" y2=\"250.0\" stroke-linecap=\"round\" style=\"stroke:white;stroke-width:4\"/>\n",
              "        <g visibility=visible transform=\"rotate(360,400.0,250.0) translate(382.0, 232.0)\">\n",
              "<path style=\" stroke:none;fill-rule:evenodd;fill:white;fill-opacity:1;\" d=\"M 18.214844 0.632812 C 16.109375 1.800781 15.011719 4.074219 15.074219 7.132812 L 15.085938 7.652344 L 14.785156 7.496094 C 13.476562 6.824219 11.957031 6.671875 10.40625 7.066406 C 8.46875 7.550781 6.515625 9.15625 4.394531 11.992188 C 3.0625 13.777344 2.679688 14.636719 3.042969 15.027344 L 3.15625 15.152344 L 3.519531 15.152344 C 4.238281 15.152344 4.828125 14.886719 8.1875 13.039062 C 9.386719 12.378906 10.371094 11.839844 10.378906 11.839844 C 10.386719 11.839844 10.355469 11.929688 10.304688 12.035156 C 9.832031 13.09375 9.257812 14.820312 8.96875 16.078125 C 7.914062 20.652344 8.617188 24.53125 11.070312 27.660156 C 11.351562 28.015625 11.363281 27.914062 10.972656 28.382812 C 8.925781 30.84375 7.945312 33.28125 8.238281 35.1875 C 8.289062 35.527344 8.28125 35.523438 8.917969 35.523438 C 10.941406 35.523438 13.074219 34.207031 15.136719 31.6875 C 15.359375 31.417969 15.328125 31.425781 15.5625 31.574219 C 16.292969 32.042969 18.023438 32.964844 18.175781 32.964844 C 18.335938 32.964844 19.941406 32.210938 20.828125 31.71875 C 20.996094 31.625 21.136719 31.554688 21.136719 31.558594 C 21.203125 31.664062 21.898438 32.414062 22.222656 32.730469 C 23.835938 34.300781 25.5625 35.132812 27.582031 35.300781 C 27.90625 35.328125 27.9375 35.308594 28.007812 34.984375 C 28.382812 33.242188 27.625 30.925781 25.863281 28.425781 L 25.542969 27.96875 L 25.699219 27.785156 C 28.945312 23.960938 29.132812 18.699219 26.257812 11.96875 L 26.207031 11.84375 L 27.945312 12.703125 C 31.53125 14.476562 32.316406 14.800781 33.03125 14.800781 C 33.976562 14.800781 33.78125 13.9375 32.472656 12.292969 C 28.519531 7.355469 25.394531 5.925781 21.921875 7.472656 L 21.558594 7.636719 L 21.578125 7.542969 C 21.699219 6.992188 21.761719 5.742188 21.699219 5.164062 C 21.496094 3.296875 20.664062 1.964844 19.003906 0.855469 C 18.480469 0.503906 18.457031 0.5 18.214844 0.632812\"/>\n",
              "</g>\n",
              "      </svg>\n",
              "    "
            ]
          },
          "metadata": {}
        }
      ]
    },
    {
      "cell_type": "code",
      "source": [
        "t.initializeTurtle()\n",
        "t.speed(10)\n",
        "for i in range(4):\n",
        "    t.forward(100)\n",
        "    t.left(90)\n",
        "\n",
        "    #외각을 90도 회전하여 내각이 90도인 정사각형을 만듭니다."
      ],
      "metadata": {
        "colab": {
          "base_uri": "https://localhost:8080/",
          "height": 520
        },
        "id": "vX1TBsM3QBBy",
        "outputId": "d6dd84e3-5c82-4740-ebb5-7eb13835ba2b"
      },
      "execution_count": null,
      "outputs": [
        {
          "output_type": "display_data",
          "data": {
            "text/plain": [
              "<IPython.core.display.HTML object>"
            ],
            "text/html": [
              "\n",
              "      <svg width=\"800\" height=\"500\">\n",
              "        <rect width=\"100%\" height=\"100%\" fill=\"black\"/>\n",
              "        <line x1=\"400\" y1=\"250\" x2=\"400.0\" y2=\"150.0\" stroke-linecap=\"round\" style=\"stroke:white;stroke-width:4\"/><line x1=\"400.0\" y1=\"150.0\" x2=\"300.0\" y2=\"150.0\" stroke-linecap=\"round\" style=\"stroke:white;stroke-width:4\"/><line x1=\"300.0\" y1=\"150.0\" x2=\"300.0\" y2=\"250.0\" stroke-linecap=\"round\" style=\"stroke:white;stroke-width:4\"/><line x1=\"300.0\" y1=\"250.0\" x2=\"400.0\" y2=\"250.0\" stroke-linecap=\"round\" style=\"stroke:white;stroke-width:4\"/>\n",
              "        <g visibility=visible transform=\"rotate(360,400.0,250.0) translate(382.0, 232.0)\">\n",
              "<path style=\" stroke:none;fill-rule:evenodd;fill:white;fill-opacity:1;\" d=\"M 18.214844 0.632812 C 16.109375 1.800781 15.011719 4.074219 15.074219 7.132812 L 15.085938 7.652344 L 14.785156 7.496094 C 13.476562 6.824219 11.957031 6.671875 10.40625 7.066406 C 8.46875 7.550781 6.515625 9.15625 4.394531 11.992188 C 3.0625 13.777344 2.679688 14.636719 3.042969 15.027344 L 3.15625 15.152344 L 3.519531 15.152344 C 4.238281 15.152344 4.828125 14.886719 8.1875 13.039062 C 9.386719 12.378906 10.371094 11.839844 10.378906 11.839844 C 10.386719 11.839844 10.355469 11.929688 10.304688 12.035156 C 9.832031 13.09375 9.257812 14.820312 8.96875 16.078125 C 7.914062 20.652344 8.617188 24.53125 11.070312 27.660156 C 11.351562 28.015625 11.363281 27.914062 10.972656 28.382812 C 8.925781 30.84375 7.945312 33.28125 8.238281 35.1875 C 8.289062 35.527344 8.28125 35.523438 8.917969 35.523438 C 10.941406 35.523438 13.074219 34.207031 15.136719 31.6875 C 15.359375 31.417969 15.328125 31.425781 15.5625 31.574219 C 16.292969 32.042969 18.023438 32.964844 18.175781 32.964844 C 18.335938 32.964844 19.941406 32.210938 20.828125 31.71875 C 20.996094 31.625 21.136719 31.554688 21.136719 31.558594 C 21.203125 31.664062 21.898438 32.414062 22.222656 32.730469 C 23.835938 34.300781 25.5625 35.132812 27.582031 35.300781 C 27.90625 35.328125 27.9375 35.308594 28.007812 34.984375 C 28.382812 33.242188 27.625 30.925781 25.863281 28.425781 L 25.542969 27.96875 L 25.699219 27.785156 C 28.945312 23.960938 29.132812 18.699219 26.257812 11.96875 L 26.207031 11.84375 L 27.945312 12.703125 C 31.53125 14.476562 32.316406 14.800781 33.03125 14.800781 C 33.976562 14.800781 33.78125 13.9375 32.472656 12.292969 C 28.519531 7.355469 25.394531 5.925781 21.921875 7.472656 L 21.558594 7.636719 L 21.578125 7.542969 C 21.699219 6.992188 21.761719 5.742188 21.699219 5.164062 C 21.496094 3.296875 20.664062 1.964844 19.003906 0.855469 C 18.480469 0.503906 18.457031 0.5 18.214844 0.632812\"/>\n",
              "</g>\n",
              "      </svg>\n",
              "    "
            ]
          },
          "metadata": {}
        }
      ]
    },
    {
      "cell_type": "code",
      "source": [
        "t.initializeTurtle()\n",
        "t.speed(10)\n",
        "for i in range(5):\n",
        "    t.forward(100)\n",
        "    t.right(72)\n",
        "\n",
        "    #외각을 72도 회전하여 내각이 108도인 정오각형을 만듭니다."
      ],
      "metadata": {
        "colab": {
          "base_uri": "https://localhost:8080/",
          "height": 520
        },
        "id": "NbfNSY-HQGkS",
        "outputId": "993e0bc3-190c-4624-f6d7-c8000f1463e6"
      },
      "execution_count": null,
      "outputs": [
        {
          "output_type": "display_data",
          "data": {
            "text/plain": [
              "<IPython.core.display.HTML object>"
            ],
            "text/html": [
              "\n",
              "      <svg width=\"800\" height=\"500\">\n",
              "        <rect width=\"100%\" height=\"100%\" fill=\"black\"/>\n",
              "        <line x1=\"400\" y1=\"250\" x2=\"400.0\" y2=\"150.0\" stroke-linecap=\"round\" style=\"stroke:white;stroke-width:4\"/><line x1=\"400.0\" y1=\"150.0\" x2=\"495.106\" y2=\"119.098\" stroke-linecap=\"round\" style=\"stroke:white;stroke-width:4\"/><line x1=\"495.106\" y1=\"119.098\" x2=\"553.885\" y2=\"200.0\" stroke-linecap=\"round\" style=\"stroke:white;stroke-width:4\"/><line x1=\"553.885\" y1=\"200.0\" x2=\"495.106\" y2=\"280.902\" stroke-linecap=\"round\" style=\"stroke:white;stroke-width:4\"/><line x1=\"495.106\" y1=\"280.902\" x2=\"400.0\" y2=\"250.0\" stroke-linecap=\"round\" style=\"stroke:white;stroke-width:4\"/>\n",
              "        <g visibility=visible transform=\"rotate(360,400.0,250.0) translate(382.0, 232.0)\">\n",
              "<path style=\" stroke:none;fill-rule:evenodd;fill:white;fill-opacity:1;\" d=\"M 18.214844 0.632812 C 16.109375 1.800781 15.011719 4.074219 15.074219 7.132812 L 15.085938 7.652344 L 14.785156 7.496094 C 13.476562 6.824219 11.957031 6.671875 10.40625 7.066406 C 8.46875 7.550781 6.515625 9.15625 4.394531 11.992188 C 3.0625 13.777344 2.679688 14.636719 3.042969 15.027344 L 3.15625 15.152344 L 3.519531 15.152344 C 4.238281 15.152344 4.828125 14.886719 8.1875 13.039062 C 9.386719 12.378906 10.371094 11.839844 10.378906 11.839844 C 10.386719 11.839844 10.355469 11.929688 10.304688 12.035156 C 9.832031 13.09375 9.257812 14.820312 8.96875 16.078125 C 7.914062 20.652344 8.617188 24.53125 11.070312 27.660156 C 11.351562 28.015625 11.363281 27.914062 10.972656 28.382812 C 8.925781 30.84375 7.945312 33.28125 8.238281 35.1875 C 8.289062 35.527344 8.28125 35.523438 8.917969 35.523438 C 10.941406 35.523438 13.074219 34.207031 15.136719 31.6875 C 15.359375 31.417969 15.328125 31.425781 15.5625 31.574219 C 16.292969 32.042969 18.023438 32.964844 18.175781 32.964844 C 18.335938 32.964844 19.941406 32.210938 20.828125 31.71875 C 20.996094 31.625 21.136719 31.554688 21.136719 31.558594 C 21.203125 31.664062 21.898438 32.414062 22.222656 32.730469 C 23.835938 34.300781 25.5625 35.132812 27.582031 35.300781 C 27.90625 35.328125 27.9375 35.308594 28.007812 34.984375 C 28.382812 33.242188 27.625 30.925781 25.863281 28.425781 L 25.542969 27.96875 L 25.699219 27.785156 C 28.945312 23.960938 29.132812 18.699219 26.257812 11.96875 L 26.207031 11.84375 L 27.945312 12.703125 C 31.53125 14.476562 32.316406 14.800781 33.03125 14.800781 C 33.976562 14.800781 33.78125 13.9375 32.472656 12.292969 C 28.519531 7.355469 25.394531 5.925781 21.921875 7.472656 L 21.558594 7.636719 L 21.578125 7.542969 C 21.699219 6.992188 21.761719 5.742188 21.699219 5.164062 C 21.496094 3.296875 20.664062 1.964844 19.003906 0.855469 C 18.480469 0.503906 18.457031 0.5 18.214844 0.632812\"/>\n",
              "</g>\n",
              "      </svg>\n",
              "    "
            ]
          },
          "metadata": {}
        }
      ]
    },
    {
      "cell_type": "code",
      "source": [
        "initializeTurtle()\n",
        "speed(10)\n",
        "for i in range(6):\n",
        "    forward(100)\n",
        "    left(60)\n",
        "\n",
        "    #외각을 60도 회전하여 내각이 120도인 정육각형을 만듭니다."
      ],
      "metadata": {
        "colab": {
          "base_uri": "https://localhost:8080/",
          "height": 520
        },
        "id": "ZGt41mo3QP0a",
        "outputId": "c2a17f00-0047-47b6-f11b-7e2286e38ee4"
      },
      "execution_count": null,
      "outputs": [
        {
          "output_type": "display_data",
          "data": {
            "text/plain": [
              "<IPython.core.display.HTML object>"
            ],
            "text/html": [
              "\n",
              "      <svg width=\"800\" height=\"500\">\n",
              "        <rect width=\"100%\" height=\"100%\" fill=\"black\"/>\n",
              "        <line x1=\"400\" y1=\"250\" x2=\"400.0\" y2=\"150.0\" stroke-linecap=\"round\" style=\"stroke:white;stroke-width:4\"/><line x1=\"400.0\" y1=\"150.0\" x2=\"313.397\" y2=\"100.0\" stroke-linecap=\"round\" style=\"stroke:white;stroke-width:4\"/><line x1=\"313.397\" y1=\"100.0\" x2=\"226.794\" y2=\"150.0\" stroke-linecap=\"round\" style=\"stroke:white;stroke-width:4\"/><line x1=\"226.794\" y1=\"150.0\" x2=\"226.794\" y2=\"250.0\" stroke-linecap=\"round\" style=\"stroke:white;stroke-width:4\"/><line x1=\"226.794\" y1=\"250.0\" x2=\"313.397\" y2=\"300.0\" stroke-linecap=\"round\" style=\"stroke:white;stroke-width:4\"/><line x1=\"313.397\" y1=\"300.0\" x2=\"400.0\" y2=\"250.0\" stroke-linecap=\"round\" style=\"stroke:white;stroke-width:4\"/>\n",
              "        <g visibility=visible transform=\"rotate(360,400.0,250.0) translate(382.0, 232.0)\">\n",
              "<path style=\" stroke:none;fill-rule:evenodd;fill:white;fill-opacity:1;\" d=\"M 18.214844 0.632812 C 16.109375 1.800781 15.011719 4.074219 15.074219 7.132812 L 15.085938 7.652344 L 14.785156 7.496094 C 13.476562 6.824219 11.957031 6.671875 10.40625 7.066406 C 8.46875 7.550781 6.515625 9.15625 4.394531 11.992188 C 3.0625 13.777344 2.679688 14.636719 3.042969 15.027344 L 3.15625 15.152344 L 3.519531 15.152344 C 4.238281 15.152344 4.828125 14.886719 8.1875 13.039062 C 9.386719 12.378906 10.371094 11.839844 10.378906 11.839844 C 10.386719 11.839844 10.355469 11.929688 10.304688 12.035156 C 9.832031 13.09375 9.257812 14.820312 8.96875 16.078125 C 7.914062 20.652344 8.617188 24.53125 11.070312 27.660156 C 11.351562 28.015625 11.363281 27.914062 10.972656 28.382812 C 8.925781 30.84375 7.945312 33.28125 8.238281 35.1875 C 8.289062 35.527344 8.28125 35.523438 8.917969 35.523438 C 10.941406 35.523438 13.074219 34.207031 15.136719 31.6875 C 15.359375 31.417969 15.328125 31.425781 15.5625 31.574219 C 16.292969 32.042969 18.023438 32.964844 18.175781 32.964844 C 18.335938 32.964844 19.941406 32.210938 20.828125 31.71875 C 20.996094 31.625 21.136719 31.554688 21.136719 31.558594 C 21.203125 31.664062 21.898438 32.414062 22.222656 32.730469 C 23.835938 34.300781 25.5625 35.132812 27.582031 35.300781 C 27.90625 35.328125 27.9375 35.308594 28.007812 34.984375 C 28.382812 33.242188 27.625 30.925781 25.863281 28.425781 L 25.542969 27.96875 L 25.699219 27.785156 C 28.945312 23.960938 29.132812 18.699219 26.257812 11.96875 L 26.207031 11.84375 L 27.945312 12.703125 C 31.53125 14.476562 32.316406 14.800781 33.03125 14.800781 C 33.976562 14.800781 33.78125 13.9375 32.472656 12.292969 C 28.519531 7.355469 25.394531 5.925781 21.921875 7.472656 L 21.558594 7.636719 L 21.578125 7.542969 C 21.699219 6.992188 21.761719 5.742188 21.699219 5.164062 C 21.496094 3.296875 20.664062 1.964844 19.003906 0.855469 C 18.480469 0.503906 18.457031 0.5 18.214844 0.632812\"/>\n",
              "</g>\n",
              "      </svg>\n",
              "    "
            ]
          },
          "metadata": {}
        }
      ]
    },
    {
      "cell_type": "code",
      "source": [
        "t.initializeTurtle()\n",
        "t.speed(10)\n",
        "t.color('pink')\n",
        "for i in range(200):\n",
        "    t.forward(i)\n",
        "    t.left(83)"
      ],
      "metadata": {
        "colab": {
          "base_uri": "https://localhost:8080/",
          "height": 520
        },
        "id": "7mu62FSG0wo7",
        "outputId": "cdf64b17-4651-4ad8-d6ea-55a6099901c4"
      },
      "execution_count": null,
      "outputs": [
        {
          "output_type": "display_data",
          "data": {
            "text/plain": [
              "<IPython.core.display.HTML object>"
            ],
            "text/html": [
              "\n",
              "      <svg width=\"800\" height=\"500\">\n",
              "        <rect width=\"100%\" height=\"100%\" fill=\"black\"/>\n",
              "        <line x1=\"400\" y1=\"250\" x2=\"400.0\" y2=\"250.0\" stroke-linecap=\"round\" style=\"stroke:pink;stroke-width:4\"/><line x1=\"400.0\" y1=\"250.0\" x2=\"399.007\" y2=\"249.878\" stroke-linecap=\"round\" style=\"stroke:pink;stroke-width:4\"/><line x1=\"399.007\" y1=\"249.878\" x2=\"398.523\" y2=\"251.819\" stroke-linecap=\"round\" style=\"stroke:pink;stroke-width:4\"/><line x1=\"398.523\" y1=\"251.819\" x2=\"401.324\" y2=\"252.894\" stroke-linecap=\"round\" style=\"stroke:pink;stroke-width:4\"/><line x1=\"401.324\" y1=\"252.894\" x2=\"403.202\" y2=\"249.362\" stroke-linecap=\"round\" style=\"stroke:pink;stroke-width:4\"/><line x1=\"403.202\" y1=\"249.362\" x2=\"399.106\" y2=\"246.494\" stroke-linecap=\"round\" style=\"stroke:pink;stroke-width:4\"/><line x1=\"399.106\" y1=\"246.494\" x2=\"395.091\" y2=\"250.953\" stroke-linecap=\"round\" style=\"stroke:pink;stroke-width:4\"/><line x1=\"395.091\" y1=\"250.953\" x2=\"399.683\" y2=\"256.236\" stroke-linecap=\"round\" style=\"stroke:pink;stroke-width:4\"/><line x1=\"399.683\" y1=\"256.236\" x2=\"406.315\" y2=\"251.762\" stroke-linecap=\"round\" style=\"stroke:pink;stroke-width:4\"/><line x1=\"406.315\" y1=\"251.762\" x2=\"402.229\" y2=\"243.743\" stroke-linecap=\"round\" style=\"stroke:pink;stroke-width:4\"/><line x1=\"402.229\" y1=\"243.743\" x2=\"392.832\" y2=\"247.163\" stroke-linecap=\"round\" style=\"stroke:pink;stroke-width:4\"/><line x1=\"392.832\" y1=\"247.163\" x2=\"395.306\" y2=\"257.881\" stroke-linecap=\"round\" style=\"stroke:pink;stroke-width:4\"/><line x1=\"395.306\" y1=\"257.881\" x2=\"407.24\" y2=\"256.627\" stroke-linecap=\"round\" style=\"stroke:pink;stroke-width:4\"/><line x1=\"407.24\" y1=\"256.627\" x2=\"407.467\" y2=\"243.629\" stroke-linecap=\"round\" style=\"stroke:pink;stroke-width:4\"/><line x1=\"407.467\" y1=\"243.629\" x2=\"393.603\" y2=\"241.681\" stroke-linecap=\"round\" style=\"stroke:pink;stroke-width:4\"/><line x1=\"393.603\" y1=\"241.681\" x2=\"389.721\" y2=\"256.17\" stroke-linecap=\"round\" style=\"stroke:pink;stroke-width:4\"/><line x1=\"389.721\" y1=\"256.17\" x2=\"404.556\" y2=\"262.164\" stroke-linecap=\"round\" style=\"stroke:pink;stroke-width:4\"/><line x1=\"404.556\" y1=\"262.164\" x2=\"412.798\" y2=\"247.295\" stroke-linecap=\"round\" style=\"stroke:pink;stroke-width:4\"/><line x1=\"412.798\" y1=\"247.295\" x2=\"398.236\" y2=\"236.715\" stroke-linecap=\"round\" style=\"stroke:pink;stroke-width:4\"/><line x1=\"398.236\" y1=\"236.715\" x2=\"385.278\" y2=\"250.611\" stroke-linecap=\"round\" style=\"stroke:pink;stroke-width:4\"/><line x1=\"385.278\" y1=\"250.611\" x2=\"398.134\" y2=\"265.932\" stroke-linecap=\"round\" style=\"stroke:pink;stroke-width:4\"/><line x1=\"398.134\" y1=\"265.932\" x2=\"415.746\" y2=\"254.495\" stroke-linecap=\"round\" style=\"stroke:pink;stroke-width:4\"/><line x1=\"415.746\" y1=\"254.495\" x2=\"406.102\" y2=\"234.722\" stroke-linecap=\"round\" style=\"stroke:pink;stroke-width:4\"/><line x1=\"406.102\" y1=\"234.722\" x2=\"384.355\" y2=\"242.21\" stroke-linecap=\"round\" style=\"stroke:pink;stroke-width:4\"/><line x1=\"384.355\" y1=\"242.21\" x2=\"389.345\" y2=\"265.686\" stroke-linecap=\"round\" style=\"stroke:pink;stroke-width:4\"/><line x1=\"389.345\" y1=\"265.686\" x2=\"414.25\" y2=\"263.507\" stroke-linecap=\"round\" style=\"stroke:pink;stroke-width:4\"/><line x1=\"414.25\" y1=\"263.507\" x2=\"415.157\" y2=\"237.523\" stroke-linecap=\"round\" style=\"stroke:pink;stroke-width:4\"/><line x1=\"415.157\" y1=\"237.523\" x2=\"388.489\" y2=\"233.299\" stroke-linecap=\"round\" style=\"stroke:pink;stroke-width:4\"/><line x1=\"388.489\" y1=\"233.299\" x2=\"380.771\" y2=\"260.214\" stroke-linecap=\"round\" style=\"stroke:pink;stroke-width:4\"/><line x1=\"380.771\" y1=\"260.214\" x2=\"407.466\" y2=\"271.545\" stroke-linecap=\"round\" style=\"stroke:pink;stroke-width:4\"/><line x1=\"407.466\" y1=\"271.545\" x2=\"422.466\" y2=\"245.564\" stroke-linecap=\"round\" style=\"stroke:pink;stroke-width:4\"/><line x1=\"422.466\" y1=\"245.564\" x2=\"397.708\" y2=\"226.908\" stroke-linecap=\"round\" style=\"stroke:pink;stroke-width:4\"/><line x1=\"397.708\" y1=\"226.908\" x2=\"375.479\" y2=\"249.927\" stroke-linecap=\"round\" style=\"stroke:pink;stroke-width:4\"/><line x1=\"375.479\" y1=\"249.927\" x2=\"396.247\" y2=\"275.573\" stroke-linecap=\"round\" style=\"stroke:pink;stroke-width:4\"/><line x1=\"396.247\" y1=\"275.573\" x2=\"425.081\" y2=\"257.556\" stroke-linecap=\"round\" style=\"stroke:pink;stroke-width:4\"/><line x1=\"425.081\" y1=\"257.556\" x2=\"410.289\" y2=\"225.835\" stroke-linecap=\"round\" style=\"stroke:pink;stroke-width:4\"/><line x1=\"410.289\" y1=\"225.835\" x2=\"376.051\" y2=\"236.96\" stroke-linecap=\"round\" style=\"stroke:pink;stroke-width:4\"/><line x1=\"376.051\" y1=\"236.96\" x2=\"383.111\" y2=\"273.28\" stroke-linecap=\"round\" style=\"stroke:pink;stroke-width:4\"/><line x1=\"383.111\" y1=\"273.28\" x2=\"421.018\" y2=\"270.629\" stroke-linecap=\"round\" style=\"stroke:pink;stroke-width:4\"/><line x1=\"421.018\" y1=\"270.629\" x2=\"423.059\" y2=\"231.682\" stroke-linecap=\"round\" style=\"stroke:pink;stroke-width:4\"/><line x1=\"423.059\" y1=\"231.682\" x2=\"383.667\" y2=\"224.736\" stroke-linecap=\"round\" style=\"stroke:pink;stroke-width:4\"/><line x1=\"383.667\" y1=\"224.736\" x2=\"371.68\" y2=\"263.944\" stroke-linecap=\"round\" style=\"stroke:pink;stroke-width:4\"/><line x1=\"371.68\" y1=\"263.944\" x2=\"410.049\" y2=\"281.027\" stroke-linecap=\"round\" style=\"stroke:pink;stroke-width:4\"/><line x1=\"410.049\" y1=\"281.027\" x2=\"432.196\" y2=\"244.169\" stroke-linecap=\"round\" style=\"stroke:pink;stroke-width:4\"/><line x1=\"432.196\" y1=\"244.169\" x2=\"397.524\" y2=\"217.08\" stroke-linecap=\"round\" style=\"stroke:pink;stroke-width:4\"/><line x1=\"397.524\" y1=\"217.08\" x2=\"365.704\" y2=\"248.9\" stroke-linecap=\"round\" style=\"stroke:pink;stroke-width:4\"/><line x1=\"365.704\" y1=\"248.9\" x2=\"394.024\" y2=\"285.148\" stroke-linecap=\"round\" style=\"stroke:pink;stroke-width:4\"/><line x1=\"394.024\" y1=\"285.148\" x2=\"434.311\" y2=\"260.941\" stroke-linecap=\"round\" style=\"stroke:pink;stroke-width:4\"/><line x1=\"434.311\" y1=\"260.941\" x2=\"414.788\" y2=\"217.091\" stroke-linecap=\"round\" style=\"stroke:pink;stroke-width:4\"/><line x1=\"414.788\" y1=\"217.091\" x2=\"367.929\" y2=\"231.417\" stroke-linecap=\"round\" style=\"stroke:pink;stroke-width:4\"/><line x1=\"367.929\" y1=\"231.417\" x2=\"376.611\" y2=\"280.657\" stroke-linecap=\"round\" style=\"stroke:pink;stroke-width:4\"/><line x1=\"376.611\" y1=\"280.657\" x2=\"427.541\" y2=\"277.988\" stroke-linecap=\"round\" style=\"stroke:pink;stroke-width:4\"/><line x1=\"427.541\" y1=\"277.988\" x2=\"431.168\" y2=\"226.115\" stroke-linecap=\"round\" style=\"stroke:pink;stroke-width:4\"/><line x1=\"431.168\" y1=\"226.115\" x2=\"379.142\" y2=\"216.002\" stroke-linecap=\"round\" style=\"stroke:pink;stroke-width:4\"/><line x1=\"379.142\" y1=\"216.002\" x2=\"362.455\" y2=\"267.359\" stroke-linecap=\"round\" style=\"stroke:pink;stroke-width:4\"/><line x1=\"362.455\" y1=\"267.359\" x2=\"412.302\" y2=\"290.603\" stroke-linecap=\"round\" style=\"stroke:pink;stroke-width:4\"/><line x1=\"412.302\" y1=\"290.603\" x2=\"441.977\" y2=\"243.112\" stroke-linecap=\"round\" style=\"stroke:pink;stroke-width:4\"/><line x1=\"441.977\" y1=\"243.112\" x2=\"397.68\" y2=\"207.241\" stroke-linecap=\"round\" style=\"stroke:pink;stroke-width:4\"/><line x1=\"397.68\" y1=\"207.241\" x2=\"355.958\" y2=\"247.531\" stroke-linecap=\"round\" style=\"stroke:pink;stroke-width:4\"/><line x1=\"355.958\" y1=\"247.531\" x2=\"391.465\" y2=\"294.65\" stroke-linecap=\"round\" style=\"stroke:pink;stroke-width:4\"/><line x1=\"391.465\" y1=\"294.65\" x2=\"443.427\" y2=\"264.65\" stroke-linecap=\"round\" style=\"stroke:pink;stroke-width:4\"/><line x1=\"443.427\" y1=\"264.65\" x2=\"419.592\" y2=\"208.499\" stroke-linecap=\"round\" style=\"stroke:pink;stroke-width:4\"/><line x1=\"419.592\" y1=\"208.499\" x2=\"359.994\" y2=\"225.589\" stroke-linecap=\"round\" style=\"stroke:pink;stroke-width:4\"/><line x1=\"359.994\" y1=\"225.589\" x2=\"369.849\" y2=\"287.813\" stroke-linecap=\"round\" style=\"stroke:pink;stroke-width:4\"/><line x1=\"369.849\" y1=\"287.813\" x2=\"433.81\" y2=\"285.579\" stroke-linecap=\"round\" style=\"stroke:pink;stroke-width:4\"/><line x1=\"433.81\" y1=\"285.579\" x2=\"439.475\" y2=\"220.826\" stroke-linecap=\"round\" style=\"stroke:pink;stroke-width:4\"/><line x1=\"439.475\" y1=\"220.826\" x2=\"374.917\" y2=\"207.104\" stroke-linecap=\"round\" style=\"stroke:pink;stroke-width:4\"/><line x1=\"374.917\" y1=\"207.104\" x2=\"353.104\" y2=\"270.454\" stroke-linecap=\"round\" style=\"stroke:pink;stroke-width:4\"/><line x1=\"353.104\" y1=\"270.454\" x2=\"414.222\" y2=\"300.263\" stroke-linecap=\"round\" style=\"stroke:pink;stroke-width:4\"/><line x1=\"414.222\" y1=\"300.263\" x2=\"451.802\" y2=\"242.395\" stroke-linecap=\"round\" style=\"stroke:pink;stroke-width:4\"/><line x1=\"451.802\" y1=\"242.395\" x2=\"398.179\" y2=\"197.4\" stroke-linecap=\"round\" style=\"stroke:pink;stroke-width:4\"/><line x1=\"398.179\" y1=\"197.4\" x2=\"346.253\" y2=\"245.822\" stroke-linecap=\"round\" style=\"stroke:pink;stroke-width:4\"/><line x1=\"346.253\" y1=\"245.822\" x2=\"388.574\" y2=\"304.071\" stroke-linecap=\"round\" style=\"stroke:pink;stroke-width:4\"/><line x1=\"388.574\" y1=\"304.071\" x2=\"452.421\" y2=\"268.68\" stroke-linecap=\"round\" style=\"stroke:pink;stroke-width:4\"/><line x1=\"452.421\" y1=\"268.68\" x2=\"424.7\" y2=\"200.068\" stroke-linecap=\"round\" style=\"stroke:pink;stroke-width:4\"/><line x1=\"424.7\" y1=\"200.068\" x2=\"352.256\" y2=\"219.479\" stroke-linecap=\"round\" style=\"stroke:pink;stroke-width:4\"/><line x1=\"352.256\" y1=\"219.479\" x2=\"362.833\" y2=\"294.739\" stroke-linecap=\"round\" style=\"stroke:pink;stroke-width:4\"/><line x1=\"362.833\" y1=\"294.739\" x2=\"439.821\" y2=\"293.395\" stroke-linecap=\"round\" style=\"stroke:pink;stroke-width:4\"/><line x1=\"439.821\" y1=\"293.395\" x2=\"447.974\" y2=\"215.822\" stroke-linecap=\"round\" style=\"stroke:pink;stroke-width:4\"/><line x1=\"447.974\" y1=\"215.822\" x2=\"370.999\" y2=\"198.051\" stroke-linecap=\"round\" style=\"stroke:pink;stroke-width:4\"/><line x1=\"370.999\" y1=\"198.051\" x2=\"343.637\" y2=\"273.226\" stroke-linecap=\"round\" style=\"stroke:pink;stroke-width:4\"/><line x1=\"343.637\" y1=\"273.226\" x2=\"415.809\" y2=\"309.999\" stroke-linecap=\"round\" style=\"stroke:pink;stroke-width:4\"/><line x1=\"415.809\" y1=\"309.999\" x2=\"461.663\" y2=\"242.018\" stroke-linecap=\"round\" style=\"stroke:pink;stroke-width:4\"/><line x1=\"461.663\" y1=\"242.018\" x2=\"399.022\" y2=\"187.565\" stroke-linecap=\"round\" style=\"stroke:pink;stroke-width:4\"/><line x1=\"399.022\" y1=\"187.565\" x2=\"336.598\" y2=\"243.772\" stroke-linecap=\"round\" style=\"stroke:pink;stroke-width:4\"/><line x1=\"336.598\" y1=\"243.772\" x2=\"385.352\" y2=\"313.4\" stroke-linecap=\"round\" style=\"stroke:pink;stroke-width:4\"/><line x1=\"385.352\" y1=\"313.4\" x2=\"461.285\" y2=\"273.025\" stroke-linecap=\"round\" style=\"stroke:pink;stroke-width:4\"/><line x1=\"461.285\" y1=\"273.025\" x2=\"430.107\" y2=\"191.804\" stroke-linecap=\"round\" style=\"stroke:pink;stroke-width:4\"/><line x1=\"430.107\" y1=\"191.804\" x2=\"344.721\" y2=\"213.093\" stroke-linecap=\"round\" style=\"stroke:pink;stroke-width:4\"/><line x1=\"344.721\" y1=\"213.093\" x2=\"355.567\" y2=\"301.43\" stroke-linecap=\"round\" style=\"stroke:pink;stroke-width:4\"/><line x1=\"355.567\" y1=\"301.43\" x2=\"445.567\" y2=\"301.43\" stroke-linecap=\"round\" style=\"stroke:pink;stroke-width:4\"/><line x1=\"445.567\" y1=\"301.43\" x2=\"456.657\" y2=\"211.108\" stroke-linecap=\"round\" style=\"stroke:pink;stroke-width:4\"/><line x1=\"456.657\" y1=\"211.108\" x2=\"367.39\" y2=\"188.851\" stroke-linecap=\"round\" style=\"stroke:pink;stroke-width:4\"/><line x1=\"367.39\" y1=\"188.851\" x2=\"334.062\" y2=\"275.674\" stroke-linecap=\"round\" style=\"stroke:pink;stroke-width:4\"/><line x1=\"334.062\" y1=\"275.674\" x2=\"417.059\" y2=\"319.804\" stroke-linecap=\"round\" style=\"stroke:pink;stroke-width:4\"/><line x1=\"417.059\" y1=\"319.804\" x2=\"471.549\" y2=\"241.985\" stroke-linecap=\"round\" style=\"stroke:pink;stroke-width:4\"/><line x1=\"471.549\" y1=\"241.985\" x2=\"400.207\" y2=\"177.748\" stroke-linecap=\"round\" style=\"stroke:pink;stroke-width:4\"/><line x1=\"400.207\" y1=\"177.748\" x2=\"327.0\" y2=\"241.386\" stroke-linecap=\"round\" style=\"stroke:pink;stroke-width:4\"/><line x1=\"327.0\" y1=\"241.386\" x2=\"381.801\" y2=\"322.632\" stroke-linecap=\"round\" style=\"stroke:pink;stroke-width:4\"/><line x1=\"381.801\" y1=\"322.632\" x2=\"470.011\" y2=\"277.687\" stroke-linecap=\"round\" style=\"stroke:pink;stroke-width:4\"/><line x1=\"470.011\" y1=\"277.687\" x2=\"435.809\" y2=\"183.718\" stroke-linecap=\"round\" style=\"stroke:pink;stroke-width:4\"/><line x1=\"435.809\" y1=\"183.718\" x2=\"337.398\" y2=\"206.438\" stroke-linecap=\"round\" style=\"stroke:pink;stroke-width:4\"/><line x1=\"337.398\" y1=\"206.438\" x2=\"348.06\" y2=\"307.879\" stroke-linecap=\"round\" style=\"stroke:pink;stroke-width:4\"/><line x1=\"348.06\" y1=\"307.879\" x2=\"451.044\" y2=\"309.677\" stroke-linecap=\"round\" style=\"stroke:pink;stroke-width:4\"/><line x1=\"451.044\" y1=\"309.677\" x2=\"465.518\" y2=\"206.689\" stroke-linecap=\"round\" style=\"stroke:pink;stroke-width:4\"/><line x1=\"465.518\" y1=\"206.689\" x2=\"364.096\" y2=\"179.513\" stroke-linecap=\"round\" style=\"stroke:pink;stroke-width:4\"/><line x1=\"364.096\" y1=\"179.513\" x2=\"324.388\" y2=\"277.794\" stroke-linecap=\"round\" style=\"stroke:pink;stroke-width:4\"/><line x1=\"324.388\" y1=\"277.794\" x2=\"417.972\" y2=\"329.669\" stroke-linecap=\"round\" style=\"stroke:pink;stroke-width:4\"/><line x1=\"417.972\" y1=\"329.669\" x2=\"481.453\" y2=\"242.295\" stroke-linecap=\"round\" style=\"stroke:pink;stroke-width:4\"/><line x1=\"481.453\" y1=\"242.295\" x2=\"401.735\" y2=\"167.957\" stroke-linecap=\"round\" style=\"stroke:pink;stroke-width:4\"/><line x1=\"401.735\" y1=\"167.957\" x2=\"317.47\" y2=\"238.664\" stroke-linecap=\"round\" style=\"stroke:pink;stroke-width:4\"/><line x1=\"317.47\" y1=\"238.664\" x2=\"377.925\" y2=\"331.756\" stroke-linecap=\"round\" style=\"stroke:pink;stroke-width:4\"/><line x1=\"377.925\" y1=\"331.756\" x2=\"478.59\" y2=\"282.658\" stroke-linecap=\"round\" style=\"stroke:pink;stroke-width:4\"/><line x1=\"478.59\" y1=\"282.658\" x2=\"441.801\" y2=\"175.814\" stroke-linecap=\"round\" style=\"stroke:pink;stroke-width:4\"/><line x1=\"441.801\" y1=\"175.814\" x2=\"330.292\" y2=\"199.516\" stroke-linecap=\"round\" style=\"stroke:pink;stroke-width:4\"/><line x1=\"330.292\" y1=\"199.516\" x2=\"340.315\" y2=\"314.078\" stroke-linecap=\"round\" style=\"stroke:pink;stroke-width:4\"/><line x1=\"340.315\" y1=\"314.078\" x2=\"456.244\" y2=\"318.126\" stroke-linecap=\"round\" style=\"stroke:pink;stroke-width:4\"/><line x1=\"456.244\" y1=\"318.126\" x2=\"474.547\" y2=\"202.566\" stroke-linecap=\"round\" style=\"stroke:pink;stroke-width:4\"/><line x1=\"474.547\" y1=\"202.566\" x2=\"361.118\" y2=\"170.041\" stroke-linecap=\"round\" style=\"stroke:pink;stroke-width:4\"/><line x1=\"361.118\" y1=\"170.041\" x2=\"314.621\" y2=\"279.581\" stroke-linecap=\"round\" style=\"stroke:pink;stroke-width:4\"/><line x1=\"314.621\" y1=\"279.581\" x2=\"418.544\" y2=\"339.581\" stroke-linecap=\"round\" style=\"stroke:pink;stroke-width:4\"/><line x1=\"418.544\" y1=\"339.581\" x2=\"491.364\" y2=\"242.946\" stroke-linecap=\"round\" style=\"stroke:pink;stroke-width:4\"/><line x1=\"491.364\" y1=\"242.946\" x2=\"403.605\" y2=\"158.198\" stroke-linecap=\"round\" style=\"stroke:pink;stroke-width:4\"/><line x1=\"403.605\" y1=\"158.198\" x2=\"308.016\" y2=\"235.604\" stroke-linecap=\"round\" style=\"stroke:pink;stroke-width:4\"/><line x1=\"308.016\" y1=\"235.604\" x2=\"373.726\" y2=\"340.762\" stroke-linecap=\"round\" style=\"stroke:pink;stroke-width:4\"/><line x1=\"373.726\" y1=\"340.762\" x2=\"487.014\" y2=\"287.935\" stroke-linecap=\"round\" style=\"stroke:pink;stroke-width:4\"/><line x1=\"487.014\" y1=\"287.935\" x2=\"448.078\" y2=\"168.102\" stroke-linecap=\"round\" style=\"stroke:pink;stroke-width:4\"/><line x1=\"448.078\" y1=\"168.102\" x2=\"323.411\" y2=\"192.335\" stroke-linecap=\"round\" style=\"stroke:pink;stroke-width:4\"/><line x1=\"323.411\" y1=\"192.335\" x2=\"332.34\" y2=\"320.023\" stroke-linecap=\"round\" style=\"stroke:pink;stroke-width:4\"/><line x1=\"332.34\" y1=\"320.023\" x2=\"461.163\" y2=\"326.774\" stroke-linecap=\"round\" style=\"stroke:pink;stroke-width:4\"/><line x1=\"461.163\" y1=\"326.774\" x2=\"483.737\" y2=\"198.749\" stroke-linecap=\"round\" style=\"stroke:pink;stroke-width:4\"/><line x1=\"483.737\" y1=\"198.749\" x2=\"358.461\" y2=\"160.448\" stroke-linecap=\"round\" style=\"stroke:pink;stroke-width:4\"/><line x1=\"358.461\" y1=\"160.448\" x2=\"304.772\" y2=\"281.036\" stroke-linecap=\"round\" style=\"stroke:pink;stroke-width:4\"/><line x1=\"304.772\" y1=\"281.036\" x2=\"418.775\" y2=\"349.536\" stroke-linecap=\"round\" style=\"stroke:pink;stroke-width:4\"/><line x1=\"418.775\" y1=\"349.536\" x2=\"501.274\" y2=\"243.943\" stroke-linecap=\"round\" style=\"stroke:pink;stroke-width:4\"/><line x1=\"501.274\" y1=\"243.943\" x2=\"405.815\" y2=\"148.484\" stroke-linecap=\"round\" style=\"stroke:pink;stroke-width:4\"/><line x1=\"405.815\" y1=\"148.484\" x2=\"298.646\" y2=\"232.214\" stroke-linecap=\"round\" style=\"stroke:pink;stroke-width:4\"/><line x1=\"298.646\" y1=\"232.214\" x2=\"369.206\" y2=\"349.646\" stroke-linecap=\"round\" style=\"stroke:pink;stroke-width:4\"/><line x1=\"369.206\" y1=\"349.646\" x2=\"495.275\" y2=\"293.516\" stroke-linecap=\"round\" style=\"stroke:pink;stroke-width:4\"/><line x1=\"495.275\" y1=\"293.516\" x2=\"454.635\" y2=\"160.59\" stroke-linecap=\"round\" style=\"stroke:pink;stroke-width:4\"/><line x1=\"454.635\" y1=\"160.59\" x2=\"316.762\" y2=\"184.901\" stroke-linecap=\"round\" style=\"stroke:pink;stroke-width:4\"/><line x1=\"316.762\" y1=\"184.901\" x2=\"324.141\" y2=\"325.708\" stroke-linecap=\"round\" style=\"stroke:pink;stroke-width:4\"/><line x1=\"324.141\" y1=\"325.708\" x2=\"465.795\" y2=\"335.613\" stroke-linecap=\"round\" style=\"stroke:pink;stroke-width:4\"/><line x1=\"465.795\" y1=\"335.613\" x2=\"493.081\" y2=\"195.24\" stroke-linecap=\"round\" style=\"stroke:pink;stroke-width:4\"/><line x1=\"493.081\" y1=\"195.24\" x2=\"356.129\" y2=\"150.742\" stroke-linecap=\"round\" style=\"stroke:pink;stroke-width:4\"/><line x1=\"356.129\" y1=\"150.742\" x2=\"294.849\" y2=\"282.157\" stroke-linecap=\"round\" style=\"stroke:pink;stroke-width:4\"/><line x1=\"294.849\" y1=\"282.157\" x2=\"418.664\" y2=\"359.525\" stroke-linecap=\"round\" style=\"stroke:pink;stroke-width:4\"/><line x1=\"418.664\" y1=\"359.525\" x2=\"511.174\" y2=\"245.285\" stroke-linecap=\"round\" style=\"stroke:pink;stroke-width:4\"/><line x1=\"511.174\" y1=\"245.285\" x2=\"408.365\" y2=\"138.823\" stroke-linecap=\"round\" style=\"stroke:pink;stroke-width:4\"/><line x1=\"408.365\" y1=\"138.823\" x2=\"289.368\" y2=\"228.493\" stroke-linecap=\"round\" style=\"stroke:pink;stroke-width:4\"/><line x1=\"289.368\" y1=\"228.493\" x2=\"364.368\" y2=\"358.397\" stroke-linecap=\"round\" style=\"stroke:pink;stroke-width:4\"/><line x1=\"364.368\" y1=\"358.397\" x2=\"503.364\" y2=\"299.397\" stroke-linecap=\"round\" style=\"stroke:pink;stroke-width:4\"/><line x1=\"503.364\" y1=\"299.397\" x2=\"461.467\" y2=\"153.285\" stroke-linecap=\"round\" style=\"stroke:pink;stroke-width:4\"/><line x1=\"461.467\" y1=\"153.285\" x2=\"310.351\" y2=\"177.219\" stroke-linecap=\"round\" style=\"stroke:pink;stroke-width:4\"/><line x1=\"310.351\" y1=\"177.219\" x2=\"315.726\" y2=\"331.125\" stroke-linecap=\"round\" style=\"stroke:pink;stroke-width:4\"/><line x1=\"315.726\" y1=\"331.125\" x2=\"470.136\" y2=\"344.634\" stroke-linecap=\"round\" style=\"stroke:pink;stroke-width:4\"/><line x1=\"470.136\" y1=\"344.634\" x2=\"502.57\" y2=\"192.043\" stroke-linecap=\"round\" style=\"stroke:pink;stroke-width:4\"/><line x1=\"502.57\" y1=\"192.043\" x2=\"354.124\" y2=\"140.929\" stroke-linecap=\"round\" style=\"stroke:pink;stroke-width:4\"/><line x1=\"354.124\" y1=\"140.929\" x2=\"284.861\" y2=\"282.938\" stroke-linecap=\"round\" style=\"stroke:pink;stroke-width:4\"/><line x1=\"284.861\" y1=\"282.938\" x2=\"418.21\" y2=\"369.536\" stroke-linecap=\"round\" style=\"stroke:pink;stroke-width:4\"/><line x1=\"418.21\" y1=\"369.536\" x2=\"521.056\" y2=\"246.969\" stroke-linecap=\"round\" style=\"stroke:pink;stroke-width:4\"/><line x1=\"521.056\" y1=\"246.969\" x2=\"411.254\" y2=\"129.221\" stroke-linecap=\"round\" style=\"stroke:pink;stroke-width:4\"/><line x1=\"411.254\" y1=\"129.221\" x2=\"280.193\" y2=\"224.442\" stroke-linecap=\"round\" style=\"stroke:pink;stroke-width:4\"/><line x1=\"280.193\" y1=\"224.442\" x2=\"359.217\" y2=\"367.005\" stroke-linecap=\"round\" style=\"stroke:pink;stroke-width:4\"/><line x1=\"359.217\" y1=\"367.005\" x2=\"511.275\" y2=\"305.57\" stroke-linecap=\"round\" style=\"stroke:pink;stroke-width:4\"/><line x1=\"511.275\" y1=\"305.57\" x2=\"468.57\" y2=\"146.192\" stroke-linecap=\"round\" style=\"stroke:pink;stroke-width:4\"/><line x1=\"468.57\" y1=\"146.192\" x2=\"304.186\" y2=\"169.295\" stroke-linecap=\"round\" style=\"stroke:pink;stroke-width:4\"/><line x1=\"304.186\" y1=\"169.295\" x2=\"307.101\" y2=\"336.27\" stroke-linecap=\"round\" style=\"stroke:pink;stroke-width:4\"/><line x1=\"307.101\" y1=\"336.27\" x2=\"474.181\" y2=\"353.831\" stroke-linecap=\"round\" style=\"stroke:pink;stroke-width:4\"/><line x1=\"474.181\" y1=\"353.831\" x2=\"512.198\" y2=\"189.162\" stroke-linecap=\"round\" style=\"stroke:pink;stroke-width:4\"/><line x1=\"512.198\" y1=\"189.162\" x2=\"352.45\" y2=\"131.019\" stroke-linecap=\"round\" style=\"stroke:pink;stroke-width:4\"/><line x1=\"352.45\" y1=\"131.019\" x2=\"274.818\" y2=\"283.381\" stroke-linecap=\"round\" style=\"stroke:pink;stroke-width:4\"/><line x1=\"274.818\" y1=\"283.381\" x2=\"417.412\" y2=\"379.562\" stroke-linecap=\"round\" style=\"stroke:pink;stroke-width:4\"/><line x1=\"417.412\" y1=\"379.562\" x2=\"530.91\" y2=\"248.997\" stroke-linecap=\"round\" style=\"stroke:pink;stroke-width:4\"/><line x1=\"530.91\" y1=\"248.997\" x2=\"414.481\" y2=\"119.69\" stroke-linecap=\"round\" style=\"stroke:pink;stroke-width:4\"/><line x1=\"414.481\" y1=\"119.69\" x2=\"271.129\" y2=\"220.066\" stroke-linecap=\"round\" style=\"stroke:pink;stroke-width:4\"/><line x1=\"271.129\" y1=\"220.066\" x2=\"353.756\" y2=\"375.465\" stroke-linecap=\"round\" style=\"stroke:pink;stroke-width:4\"/><line x1=\"353.756\" y1=\"375.465\" x2=\"519.0\" y2=\"312.034\" stroke-linecap=\"round\" style=\"stroke:pink;stroke-width:4\"/><line x1=\"519.0\" y1=\"312.034\" x2=\"475.938\" y2=\"139.321\" stroke-linecap=\"round\" style=\"stroke:pink;stroke-width:4\"/><line x1=\"475.938\" y1=\"139.321\" x2=\"298.272\" y2=\"161.136\" stroke-linecap=\"round\" style=\"stroke:pink;stroke-width:4\"/><line x1=\"298.272\" y1=\"161.136\" x2=\"298.272\" y2=\"341.136\" stroke-linecap=\"round\" style=\"stroke:pink;stroke-width:4\"/><line x1=\"298.272\" y1=\"341.136\" x2=\"477.923\" y2=\"363.194\" stroke-linecap=\"round\" style=\"stroke:pink;stroke-width:4\"/><line x1=\"477.923\" y1=\"363.194\" x2=\"521.953\" y2=\"186.6\" stroke-linecap=\"round\" style=\"stroke:pink;stroke-width:4\"/><line x1=\"521.953\" y1=\"186.6\" x2=\"351.108\" y2=\"121.019\" stroke-linecap=\"round\" style=\"stroke:pink;stroke-width:4\"/><line x1=\"351.108\" y1=\"121.019\" x2=\"264.725\" y2=\"283.481\" stroke-linecap=\"round\" style=\"stroke:pink;stroke-width:4\"/><line x1=\"264.725\" y1=\"283.481\" x2=\"416.268\" y2=\"389.593\" stroke-linecap=\"round\" style=\"stroke:pink;stroke-width:4\"/><line x1=\"416.268\" y1=\"389.593\" x2=\"540.726\" y2=\"251.368\" stroke-linecap=\"round\" style=\"stroke:pink;stroke-width:4\"/><line x1=\"540.726\" y1=\"251.368\" x2=\"418.043\" y2=\"110.237\" stroke-linecap=\"round\" style=\"stroke:pink;stroke-width:4\"/><line x1=\"418.043\" y1=\"110.237\" x2=\"262.184\" y2=\"215.365\" stroke-linecap=\"round\" style=\"stroke:pink;stroke-width:4\"/><line x1=\"262.184\" y1=\"215.365\" x2=\"347.988\" y2=\"383.765\" stroke-linecap=\"round\" style=\"stroke:pink;stroke-width:4\"/><line x1=\"347.988\" y1=\"383.765\" x2=\"526.53\" y2=\"318.781\" stroke-linecap=\"round\" style=\"stroke:pink;stroke-width:4\"/><line x1=\"526.53\" y1=\"318.781\" x2=\"483.564\" y2=\"132.676\" stroke-linecap=\"round\" style=\"stroke:pink;stroke-width:4\"/><line x1=\"483.564\" y1=\"132.676\" x2=\"292.616\" y2=\"152.745\" stroke-linecap=\"round\" style=\"stroke:pink;stroke-width:4\"/><line x1=\"292.616\" y1=\"152.745\" x2=\"289.248\" y2=\"345.716\" stroke-linecap=\"round\" style=\"stroke:pink;stroke-width:4\"/><line x1=\"289.248\" y1=\"345.716\" x2=\"481.36\" y2=\"372.716\" stroke-linecap=\"round\" style=\"stroke:pink;stroke-width:4\"/><line x1=\"481.36\" y1=\"372.716\" x2=\"531.83\" y2=\"184.36\" stroke-linecap=\"round\" style=\"stroke:pink;stroke-width:4\"/><line x1=\"531.83\" y1=\"184.36\" x2=\"350.102\" y2=\"110.937\" stroke-linecap=\"round\" style=\"stroke:pink;stroke-width:4\"/><line x1=\"350.102\" y1=\"110.937\" x2=\"254.595\" y2=\"283.237\" stroke-linecap=\"round\" style=\"stroke:pink;stroke-width:4\"/><line x1=\"254.595\" y1=\"283.237\" x2=\"414.78\" y2=\"399.618\" stroke-linecap=\"round\" style=\"stroke:pink;stroke-width:4\"/><line x1=\"414.78\" y1=\"399.618\" x2=\"550.498\" y2=\"254.079\" stroke-linecap=\"round\" style=\"stroke:pink;stroke-width:4\"/>\n",
              "        <g visibility=visible transform=\"rotate(320,550.498,254.079) translate(532.498, 236.079)\">\n",
              "<path style=\" stroke:none;fill-rule:evenodd;fill:pink;fill-opacity:1;\" d=\"M 18.214844 0.632812 C 16.109375 1.800781 15.011719 4.074219 15.074219 7.132812 L 15.085938 7.652344 L 14.785156 7.496094 C 13.476562 6.824219 11.957031 6.671875 10.40625 7.066406 C 8.46875 7.550781 6.515625 9.15625 4.394531 11.992188 C 3.0625 13.777344 2.679688 14.636719 3.042969 15.027344 L 3.15625 15.152344 L 3.519531 15.152344 C 4.238281 15.152344 4.828125 14.886719 8.1875 13.039062 C 9.386719 12.378906 10.371094 11.839844 10.378906 11.839844 C 10.386719 11.839844 10.355469 11.929688 10.304688 12.035156 C 9.832031 13.09375 9.257812 14.820312 8.96875 16.078125 C 7.914062 20.652344 8.617188 24.53125 11.070312 27.660156 C 11.351562 28.015625 11.363281 27.914062 10.972656 28.382812 C 8.925781 30.84375 7.945312 33.28125 8.238281 35.1875 C 8.289062 35.527344 8.28125 35.523438 8.917969 35.523438 C 10.941406 35.523438 13.074219 34.207031 15.136719 31.6875 C 15.359375 31.417969 15.328125 31.425781 15.5625 31.574219 C 16.292969 32.042969 18.023438 32.964844 18.175781 32.964844 C 18.335938 32.964844 19.941406 32.210938 20.828125 31.71875 C 20.996094 31.625 21.136719 31.554688 21.136719 31.558594 C 21.203125 31.664062 21.898438 32.414062 22.222656 32.730469 C 23.835938 34.300781 25.5625 35.132812 27.582031 35.300781 C 27.90625 35.328125 27.9375 35.308594 28.007812 34.984375 C 28.382812 33.242188 27.625 30.925781 25.863281 28.425781 L 25.542969 27.96875 L 25.699219 27.785156 C 28.945312 23.960938 29.132812 18.699219 26.257812 11.96875 L 26.207031 11.84375 L 27.945312 12.703125 C 31.53125 14.476562 32.316406 14.800781 33.03125 14.800781 C 33.976562 14.800781 33.78125 13.9375 32.472656 12.292969 C 28.519531 7.355469 25.394531 5.925781 21.921875 7.472656 L 21.558594 7.636719 L 21.578125 7.542969 C 21.699219 6.992188 21.761719 5.742188 21.699219 5.164062 C 21.496094 3.296875 20.664062 1.964844 19.003906 0.855469 C 18.480469 0.503906 18.457031 0.5 18.214844 0.632812\"/>\n",
              "</g>\n",
              "      </svg>\n",
              "    "
            ]
          },
          "metadata": {}
        }
      ]
    },
    {
      "cell_type": "code",
      "source": [
        "t.initializeTurtle()\n",
        "t.speed(10)\n",
        "t.color('yellow')\n",
        "for i in range(20):\n",
        "    t.forward(200)\n",
        "    t.left(150)\n",
        "\n",
        "    #스트링아트"
      ],
      "metadata": {
        "colab": {
          "base_uri": "https://localhost:8080/",
          "height": 520
        },
        "id": "pQHtkraFY4FC",
        "outputId": "fd1cd88e-6949-4504-eb35-3893f7a4e654"
      },
      "execution_count": null,
      "outputs": [
        {
          "output_type": "display_data",
          "data": {
            "text/plain": [
              "<IPython.core.display.HTML object>"
            ],
            "text/html": [
              "\n",
              "      <svg width=\"800\" height=\"500\">\n",
              "        <rect width=\"100%\" height=\"100%\" fill=\"black\"/>\n",
              "        <line x1=\"400\" y1=\"250\" x2=\"400.0\" y2=\"50.0\" stroke-linecap=\"round\" style=\"stroke:yellow;stroke-width:4\"/><line x1=\"400.0\" y1=\"50.0\" x2=\"300.0\" y2=\"223.205\" stroke-linecap=\"round\" style=\"stroke:yellow;stroke-width:4\"/><line x1=\"300.0\" y1=\"223.205\" x2=\"473.205\" y2=\"123.205\" stroke-linecap=\"round\" style=\"stroke:yellow;stroke-width:4\"/><line x1=\"473.205\" y1=\"123.205\" x2=\"273.205\" y2=\"123.205\" stroke-linecap=\"round\" style=\"stroke:yellow;stroke-width:4\"/><line x1=\"273.205\" y1=\"123.205\" x2=\"446.41\" y2=\"223.205\" stroke-linecap=\"round\" style=\"stroke:yellow;stroke-width:4\"/><line x1=\"446.41\" y1=\"223.205\" x2=\"346.41\" y2=\"50.0\" stroke-linecap=\"round\" style=\"stroke:yellow;stroke-width:4\"/><line x1=\"346.41\" y1=\"50.0\" x2=\"346.41\" y2=\"250.0\" stroke-linecap=\"round\" style=\"stroke:yellow;stroke-width:4\"/><line x1=\"346.41\" y1=\"250.0\" x2=\"446.41\" y2=\"76.795\" stroke-linecap=\"round\" style=\"stroke:yellow;stroke-width:4\"/><line x1=\"446.41\" y1=\"76.795\" x2=\"273.205\" y2=\"176.795\" stroke-linecap=\"round\" style=\"stroke:yellow;stroke-width:4\"/><line x1=\"273.205\" y1=\"176.795\" x2=\"473.205\" y2=\"176.795\" stroke-linecap=\"round\" style=\"stroke:yellow;stroke-width:4\"/><line x1=\"473.205\" y1=\"176.795\" x2=\"300.0\" y2=\"76.795\" stroke-linecap=\"round\" style=\"stroke:yellow;stroke-width:4\"/><line x1=\"300.0\" y1=\"76.795\" x2=\"400.0\" y2=\"250.0\" stroke-linecap=\"round\" style=\"stroke:yellow;stroke-width:4\"/><line x1=\"400.0\" y1=\"250.0\" x2=\"400.0\" y2=\"50.0\" stroke-linecap=\"round\" style=\"stroke:yellow;stroke-width:4\"/><line x1=\"400.0\" y1=\"50.0\" x2=\"300.0\" y2=\"223.205\" stroke-linecap=\"round\" style=\"stroke:yellow;stroke-width:4\"/><line x1=\"300.0\" y1=\"223.205\" x2=\"473.205\" y2=\"123.205\" stroke-linecap=\"round\" style=\"stroke:yellow;stroke-width:4\"/><line x1=\"473.205\" y1=\"123.205\" x2=\"273.205\" y2=\"123.205\" stroke-linecap=\"round\" style=\"stroke:yellow;stroke-width:4\"/><line x1=\"273.205\" y1=\"123.205\" x2=\"446.41\" y2=\"223.205\" stroke-linecap=\"round\" style=\"stroke:yellow;stroke-width:4\"/><line x1=\"446.41\" y1=\"223.205\" x2=\"346.41\" y2=\"50.0\" stroke-linecap=\"round\" style=\"stroke:yellow;stroke-width:4\"/><line x1=\"346.41\" y1=\"50.0\" x2=\"346.41\" y2=\"250.0\" stroke-linecap=\"round\" style=\"stroke:yellow;stroke-width:4\"/><line x1=\"346.41\" y1=\"250.0\" x2=\"446.41\" y2=\"76.795\" stroke-linecap=\"round\" style=\"stroke:yellow;stroke-width:4\"/>\n",
              "        <g visibility=visible transform=\"rotate(240,446.41,76.795) translate(428.41, 58.795)\">\n",
              "<path style=\" stroke:none;fill-rule:evenodd;fill:yellow;fill-opacity:1;\" d=\"M 18.214844 0.632812 C 16.109375 1.800781 15.011719 4.074219 15.074219 7.132812 L 15.085938 7.652344 L 14.785156 7.496094 C 13.476562 6.824219 11.957031 6.671875 10.40625 7.066406 C 8.46875 7.550781 6.515625 9.15625 4.394531 11.992188 C 3.0625 13.777344 2.679688 14.636719 3.042969 15.027344 L 3.15625 15.152344 L 3.519531 15.152344 C 4.238281 15.152344 4.828125 14.886719 8.1875 13.039062 C 9.386719 12.378906 10.371094 11.839844 10.378906 11.839844 C 10.386719 11.839844 10.355469 11.929688 10.304688 12.035156 C 9.832031 13.09375 9.257812 14.820312 8.96875 16.078125 C 7.914062 20.652344 8.617188 24.53125 11.070312 27.660156 C 11.351562 28.015625 11.363281 27.914062 10.972656 28.382812 C 8.925781 30.84375 7.945312 33.28125 8.238281 35.1875 C 8.289062 35.527344 8.28125 35.523438 8.917969 35.523438 C 10.941406 35.523438 13.074219 34.207031 15.136719 31.6875 C 15.359375 31.417969 15.328125 31.425781 15.5625 31.574219 C 16.292969 32.042969 18.023438 32.964844 18.175781 32.964844 C 18.335938 32.964844 19.941406 32.210938 20.828125 31.71875 C 20.996094 31.625 21.136719 31.554688 21.136719 31.558594 C 21.203125 31.664062 21.898438 32.414062 22.222656 32.730469 C 23.835938 34.300781 25.5625 35.132812 27.582031 35.300781 C 27.90625 35.328125 27.9375 35.308594 28.007812 34.984375 C 28.382812 33.242188 27.625 30.925781 25.863281 28.425781 L 25.542969 27.96875 L 25.699219 27.785156 C 28.945312 23.960938 29.132812 18.699219 26.257812 11.96875 L 26.207031 11.84375 L 27.945312 12.703125 C 31.53125 14.476562 32.316406 14.800781 33.03125 14.800781 C 33.976562 14.800781 33.78125 13.9375 32.472656 12.292969 C 28.519531 7.355469 25.394531 5.925781 21.921875 7.472656 L 21.558594 7.636719 L 21.578125 7.542969 C 21.699219 6.992188 21.761719 5.742188 21.699219 5.164062 C 21.496094 3.296875 20.664062 1.964844 19.003906 0.855469 C 18.480469 0.503906 18.457031 0.5 18.214844 0.632812\"/>\n",
              "</g>\n",
              "      </svg>\n",
              "    "
            ]
          },
          "metadata": {}
        }
      ]
    },
    {
      "cell_type": "code",
      "source": [
        "t.initializeTurtle()\n",
        "t.speed(10)\n",
        "t.color('yellow')\n",
        "for i in range(15):\n",
        "    t.forward(200)\n",
        "    t.left(150)\n",
        "\n",
        "    #스트링아트"
      ],
      "metadata": {
        "colab": {
          "base_uri": "https://localhost:8080/",
          "height": 520
        },
        "id": "NkJMt3Exct8E",
        "outputId": "f31438eb-c6ca-4972-d560-872e6f7bccf0"
      },
      "execution_count": null,
      "outputs": [
        {
          "output_type": "display_data",
          "data": {
            "text/plain": [
              "<IPython.core.display.HTML object>"
            ],
            "text/html": [
              "\n",
              "      <svg width=\"800\" height=\"500\">\n",
              "        <rect width=\"100%\" height=\"100%\" fill=\"black\"/>\n",
              "        <line x1=\"400\" y1=\"250\" x2=\"400.0\" y2=\"50.0\" stroke-linecap=\"round\" style=\"stroke:yellow;stroke-width:4\"/><line x1=\"400.0\" y1=\"50.0\" x2=\"300.0\" y2=\"223.205\" stroke-linecap=\"round\" style=\"stroke:yellow;stroke-width:4\"/><line x1=\"300.0\" y1=\"223.205\" x2=\"473.205\" y2=\"123.205\" stroke-linecap=\"round\" style=\"stroke:yellow;stroke-width:4\"/><line x1=\"473.205\" y1=\"123.205\" x2=\"273.205\" y2=\"123.205\" stroke-linecap=\"round\" style=\"stroke:yellow;stroke-width:4\"/><line x1=\"273.205\" y1=\"123.205\" x2=\"446.41\" y2=\"223.205\" stroke-linecap=\"round\" style=\"stroke:yellow;stroke-width:4\"/><line x1=\"446.41\" y1=\"223.205\" x2=\"346.41\" y2=\"50.0\" stroke-linecap=\"round\" style=\"stroke:yellow;stroke-width:4\"/><line x1=\"346.41\" y1=\"50.0\" x2=\"346.41\" y2=\"250.0\" stroke-linecap=\"round\" style=\"stroke:yellow;stroke-width:4\"/><line x1=\"346.41\" y1=\"250.0\" x2=\"446.41\" y2=\"76.795\" stroke-linecap=\"round\" style=\"stroke:yellow;stroke-width:4\"/><line x1=\"446.41\" y1=\"76.795\" x2=\"273.205\" y2=\"176.795\" stroke-linecap=\"round\" style=\"stroke:yellow;stroke-width:4\"/><line x1=\"273.205\" y1=\"176.795\" x2=\"473.205\" y2=\"176.795\" stroke-linecap=\"round\" style=\"stroke:yellow;stroke-width:4\"/><line x1=\"473.205\" y1=\"176.795\" x2=\"300.0\" y2=\"76.795\" stroke-linecap=\"round\" style=\"stroke:yellow;stroke-width:4\"/><line x1=\"300.0\" y1=\"76.795\" x2=\"400.0\" y2=\"250.0\" stroke-linecap=\"round\" style=\"stroke:yellow;stroke-width:4\"/><line x1=\"400.0\" y1=\"250.0\" x2=\"400.0\" y2=\"50.0\" stroke-linecap=\"round\" style=\"stroke:yellow;stroke-width:4\"/><line x1=\"400.0\" y1=\"50.0\" x2=\"300.0\" y2=\"223.205\" stroke-linecap=\"round\" style=\"stroke:yellow;stroke-width:4\"/><line x1=\"300.0\" y1=\"223.205\" x2=\"473.205\" y2=\"123.205\" stroke-linecap=\"round\" style=\"stroke:yellow;stroke-width:4\"/>\n",
              "        <g visibility=visible transform=\"rotate(270,473.205,123.205) translate(455.205, 105.205)\">\n",
              "<path style=\" stroke:none;fill-rule:evenodd;fill:yellow;fill-opacity:1;\" d=\"M 18.214844 0.632812 C 16.109375 1.800781 15.011719 4.074219 15.074219 7.132812 L 15.085938 7.652344 L 14.785156 7.496094 C 13.476562 6.824219 11.957031 6.671875 10.40625 7.066406 C 8.46875 7.550781 6.515625 9.15625 4.394531 11.992188 C 3.0625 13.777344 2.679688 14.636719 3.042969 15.027344 L 3.15625 15.152344 L 3.519531 15.152344 C 4.238281 15.152344 4.828125 14.886719 8.1875 13.039062 C 9.386719 12.378906 10.371094 11.839844 10.378906 11.839844 C 10.386719 11.839844 10.355469 11.929688 10.304688 12.035156 C 9.832031 13.09375 9.257812 14.820312 8.96875 16.078125 C 7.914062 20.652344 8.617188 24.53125 11.070312 27.660156 C 11.351562 28.015625 11.363281 27.914062 10.972656 28.382812 C 8.925781 30.84375 7.945312 33.28125 8.238281 35.1875 C 8.289062 35.527344 8.28125 35.523438 8.917969 35.523438 C 10.941406 35.523438 13.074219 34.207031 15.136719 31.6875 C 15.359375 31.417969 15.328125 31.425781 15.5625 31.574219 C 16.292969 32.042969 18.023438 32.964844 18.175781 32.964844 C 18.335938 32.964844 19.941406 32.210938 20.828125 31.71875 C 20.996094 31.625 21.136719 31.554688 21.136719 31.558594 C 21.203125 31.664062 21.898438 32.414062 22.222656 32.730469 C 23.835938 34.300781 25.5625 35.132812 27.582031 35.300781 C 27.90625 35.328125 27.9375 35.308594 28.007812 34.984375 C 28.382812 33.242188 27.625 30.925781 25.863281 28.425781 L 25.542969 27.96875 L 25.699219 27.785156 C 28.945312 23.960938 29.132812 18.699219 26.257812 11.96875 L 26.207031 11.84375 L 27.945312 12.703125 C 31.53125 14.476562 32.316406 14.800781 33.03125 14.800781 C 33.976562 14.800781 33.78125 13.9375 32.472656 12.292969 C 28.519531 7.355469 25.394531 5.925781 21.921875 7.472656 L 21.558594 7.636719 L 21.578125 7.542969 C 21.699219 6.992188 21.761719 5.742188 21.699219 5.164062 C 21.496094 3.296875 20.664062 1.964844 19.003906 0.855469 C 18.480469 0.503906 18.457031 0.5 18.214844 0.632812\"/>\n",
              "</g>\n",
              "      </svg>\n",
              "    "
            ]
          },
          "metadata": {}
        }
      ]
    },
    {
      "cell_type": "code",
      "source": [
        "t.initializeTurtle()\n",
        "t.speed(10)\n",
        "for i in range(50):\n",
        "    t.forward(100)\n",
        "    t.left(92)\n",
        "\n",
        "    #스트링아트"
      ],
      "metadata": {
        "colab": {
          "base_uri": "https://localhost:8080/",
          "height": 520
        },
        "id": "YffG19MAQao4",
        "outputId": "ab976932-8481-4fcf-d1a3-020b48346707"
      },
      "execution_count": null,
      "outputs": [
        {
          "output_type": "display_data",
          "data": {
            "text/plain": [
              "<IPython.core.display.HTML object>"
            ],
            "text/html": [
              "\n",
              "      <svg width=\"800\" height=\"500\">\n",
              "        <rect width=\"100%\" height=\"100%\" fill=\"black\"/>\n",
              "        <line x1=\"400\" y1=\"250\" x2=\"400.0\" y2=\"150.0\" stroke-linecap=\"round\" style=\"stroke:white;stroke-width:4\"/><line x1=\"400.0\" y1=\"150.0\" x2=\"300.061\" y2=\"153.49\" stroke-linecap=\"round\" style=\"stroke:white;stroke-width:4\"/><line x1=\"300.061\" y1=\"153.49\" x2=\"307.037\" y2=\"253.246\" stroke-linecap=\"round\" style=\"stroke:white;stroke-width:4\"/><line x1=\"307.037\" y1=\"253.246\" x2=\"406.489\" y2=\"242.793\" stroke-linecap=\"round\" style=\"stroke:white;stroke-width:4\"/><line x1=\"406.489\" y1=\"242.793\" x2=\"392.572\" y2=\"143.766\" stroke-linecap=\"round\" style=\"stroke:white;stroke-width:4\"/><line x1=\"392.572\" y1=\"143.766\" x2=\"294.091\" y2=\"161.131\" stroke-linecap=\"round\" style=\"stroke:white;stroke-width:4\"/><line x1=\"294.091\" y1=\"161.131\" x2=\"314.882\" y2=\"258.946\" stroke-linecap=\"round\" style=\"stroke:white;stroke-width:4\"/><line x1=\"314.882\" y1=\"258.946\" x2=\"411.912\" y2=\"234.754\" stroke-linecap=\"round\" style=\"stroke:white;stroke-width:4\"/><line x1=\"411.912\" y1=\"234.754\" x2=\"384.348\" y2=\"138.628\" stroke-linecap=\"round\" style=\"stroke:white;stroke-width:4\"/><line x1=\"384.348\" y1=\"138.628\" x2=\"289.242\" y2=\"169.53\" stroke-linecap=\"round\" style=\"stroke:white;stroke-width:4\"/><line x1=\"289.242\" y1=\"169.53\" x2=\"323.444\" y2=\"263.499\" stroke-linecap=\"round\" style=\"stroke:white;stroke-width:4\"/><line x1=\"323.444\" y1=\"263.499\" x2=\"416.162\" y2=\"226.038\" stroke-linecap=\"round\" style=\"stroke:white;stroke-width:4\"/><line x1=\"416.162\" y1=\"226.038\" x2=\"375.488\" y2=\"134.683\" stroke-linecap=\"round\" style=\"stroke:white;stroke-width:4\"/><line x1=\"375.488\" y1=\"134.683\" x2=\"285.609\" y2=\"178.52\" stroke-linecap=\"round\" style=\"stroke:white;stroke-width:4\"/><line x1=\"285.609\" y1=\"178.52\" x2=\"332.556\" y2=\"266.815\" stroke-linecap=\"round\" style=\"stroke:white;stroke-width:4\"/><line x1=\"332.556\" y1=\"266.815\" x2=\"419.159\" y2=\"216.815\" stroke-linecap=\"round\" style=\"stroke:white;stroke-width:4\"/><line x1=\"419.159\" y1=\"216.815\" x2=\"366.167\" y2=\"132.01\" stroke-linecap=\"round\" style=\"stroke:white;stroke-width:4\"/><line x1=\"366.167\" y1=\"132.01\" x2=\"283.263\" y2=\"187.929\" stroke-linecap=\"round\" style=\"stroke:white;stroke-width:4\"/><line x1=\"283.263\" y1=\"187.929\" x2=\"342.042\" y2=\"268.831\" stroke-linecap=\"round\" style=\"stroke:white;stroke-width:4\"/><line x1=\"342.042\" y1=\"268.831\" x2=\"420.843\" y2=\"207.265\" stroke-linecap=\"round\" style=\"stroke:white;stroke-width:4\"/><line x1=\"420.843\" y1=\"207.265\" x2=\"356.564\" y2=\"130.661\" stroke-linecap=\"round\" style=\"stroke:white;stroke-width:4\"/><line x1=\"356.564\" y1=\"130.661\" x2=\"282.25\" y2=\"197.574\" stroke-linecap=\"round\" style=\"stroke:white;stroke-width:4\"/><line x1=\"282.25\" y1=\"197.574\" x2=\"351.716\" y2=\"269.508\" stroke-linecap=\"round\" style=\"stroke:white;stroke-width:4\"/><line x1=\"351.716\" y1=\"269.508\" x2=\"421.182\" y2=\"197.574\" stroke-linecap=\"round\" style=\"stroke:white;stroke-width:4\"/><line x1=\"421.182\" y1=\"197.574\" x2=\"346.868\" y2=\"130.661\" stroke-linecap=\"round\" style=\"stroke:white;stroke-width:4\"/><line x1=\"346.868\" y1=\"130.661\" x2=\"282.589\" y2=\"207.265\" stroke-linecap=\"round\" style=\"stroke:white;stroke-width:4\"/><line x1=\"282.589\" y1=\"207.265\" x2=\"361.39\" y2=\"268.831\" stroke-linecap=\"round\" style=\"stroke:white;stroke-width:4\"/><line x1=\"361.39\" y1=\"268.831\" x2=\"420.169\" y2=\"187.929\" stroke-linecap=\"round\" style=\"stroke:white;stroke-width:4\"/><line x1=\"420.169\" y1=\"187.929\" x2=\"337.265\" y2=\"132.01\" stroke-linecap=\"round\" style=\"stroke:white;stroke-width:4\"/><line x1=\"337.265\" y1=\"132.01\" x2=\"284.273\" y2=\"216.815\" stroke-linecap=\"round\" style=\"stroke:white;stroke-width:4\"/><line x1=\"284.273\" y1=\"216.815\" x2=\"370.876\" y2=\"266.815\" stroke-linecap=\"round\" style=\"stroke:white;stroke-width:4\"/><line x1=\"370.876\" y1=\"266.815\" x2=\"417.823\" y2=\"178.52\" stroke-linecap=\"round\" style=\"stroke:white;stroke-width:4\"/><line x1=\"417.823\" y1=\"178.52\" x2=\"327.944\" y2=\"134.683\" stroke-linecap=\"round\" style=\"stroke:white;stroke-width:4\"/><line x1=\"327.944\" y1=\"134.683\" x2=\"287.27\" y2=\"226.038\" stroke-linecap=\"round\" style=\"stroke:white;stroke-width:4\"/><line x1=\"287.27\" y1=\"226.038\" x2=\"379.988\" y2=\"263.499\" stroke-linecap=\"round\" style=\"stroke:white;stroke-width:4\"/><line x1=\"379.988\" y1=\"263.499\" x2=\"414.19\" y2=\"169.53\" stroke-linecap=\"round\" style=\"stroke:white;stroke-width:4\"/><line x1=\"414.19\" y1=\"169.53\" x2=\"319.084\" y2=\"138.628\" stroke-linecap=\"round\" style=\"stroke:white;stroke-width:4\"/><line x1=\"319.084\" y1=\"138.628\" x2=\"291.52\" y2=\"234.754\" stroke-linecap=\"round\" style=\"stroke:white;stroke-width:4\"/><line x1=\"291.52\" y1=\"234.754\" x2=\"388.55\" y2=\"258.946\" stroke-linecap=\"round\" style=\"stroke:white;stroke-width:4\"/><line x1=\"388.55\" y1=\"258.946\" x2=\"409.341\" y2=\"161.131\" stroke-linecap=\"round\" style=\"stroke:white;stroke-width:4\"/><line x1=\"409.341\" y1=\"161.131\" x2=\"310.86\" y2=\"143.766\" stroke-linecap=\"round\" style=\"stroke:white;stroke-width:4\"/><line x1=\"310.86\" y1=\"143.766\" x2=\"296.943\" y2=\"242.793\" stroke-linecap=\"round\" style=\"stroke:white;stroke-width:4\"/><line x1=\"296.943\" y1=\"242.793\" x2=\"396.395\" y2=\"253.246\" stroke-linecap=\"round\" style=\"stroke:white;stroke-width:4\"/><line x1=\"396.395\" y1=\"253.246\" x2=\"403.371\" y2=\"153.49\" stroke-linecap=\"round\" style=\"stroke:white;stroke-width:4\"/><line x1=\"403.371\" y1=\"153.49\" x2=\"303.432\" y2=\"150.0\" stroke-linecap=\"round\" style=\"stroke:white;stroke-width:4\"/><line x1=\"303.432\" y1=\"150.0\" x2=\"303.432\" y2=\"250.0\" stroke-linecap=\"round\" style=\"stroke:white;stroke-width:4\"/><line x1=\"303.432\" y1=\"250.0\" x2=\"403.371\" y2=\"246.51\" stroke-linecap=\"round\" style=\"stroke:white;stroke-width:4\"/><line x1=\"403.371\" y1=\"246.51\" x2=\"396.395\" y2=\"146.754\" stroke-linecap=\"round\" style=\"stroke:white;stroke-width:4\"/><line x1=\"396.395\" y1=\"146.754\" x2=\"296.943\" y2=\"157.207\" stroke-linecap=\"round\" style=\"stroke:white;stroke-width:4\"/><line x1=\"296.943\" y1=\"157.207\" x2=\"310.86\" y2=\"256.234\" stroke-linecap=\"round\" style=\"stroke:white;stroke-width:4\"/>\n",
              "        <g visibility=visible transform=\"rotate(440,310.86,256.234) translate(292.86, 238.23399999999998)\">\n",
              "<path style=\" stroke:none;fill-rule:evenodd;fill:white;fill-opacity:1;\" d=\"M 18.214844 0.632812 C 16.109375 1.800781 15.011719 4.074219 15.074219 7.132812 L 15.085938 7.652344 L 14.785156 7.496094 C 13.476562 6.824219 11.957031 6.671875 10.40625 7.066406 C 8.46875 7.550781 6.515625 9.15625 4.394531 11.992188 C 3.0625 13.777344 2.679688 14.636719 3.042969 15.027344 L 3.15625 15.152344 L 3.519531 15.152344 C 4.238281 15.152344 4.828125 14.886719 8.1875 13.039062 C 9.386719 12.378906 10.371094 11.839844 10.378906 11.839844 C 10.386719 11.839844 10.355469 11.929688 10.304688 12.035156 C 9.832031 13.09375 9.257812 14.820312 8.96875 16.078125 C 7.914062 20.652344 8.617188 24.53125 11.070312 27.660156 C 11.351562 28.015625 11.363281 27.914062 10.972656 28.382812 C 8.925781 30.84375 7.945312 33.28125 8.238281 35.1875 C 8.289062 35.527344 8.28125 35.523438 8.917969 35.523438 C 10.941406 35.523438 13.074219 34.207031 15.136719 31.6875 C 15.359375 31.417969 15.328125 31.425781 15.5625 31.574219 C 16.292969 32.042969 18.023438 32.964844 18.175781 32.964844 C 18.335938 32.964844 19.941406 32.210938 20.828125 31.71875 C 20.996094 31.625 21.136719 31.554688 21.136719 31.558594 C 21.203125 31.664062 21.898438 32.414062 22.222656 32.730469 C 23.835938 34.300781 25.5625 35.132812 27.582031 35.300781 C 27.90625 35.328125 27.9375 35.308594 28.007812 34.984375 C 28.382812 33.242188 27.625 30.925781 25.863281 28.425781 L 25.542969 27.96875 L 25.699219 27.785156 C 28.945312 23.960938 29.132812 18.699219 26.257812 11.96875 L 26.207031 11.84375 L 27.945312 12.703125 C 31.53125 14.476562 32.316406 14.800781 33.03125 14.800781 C 33.976562 14.800781 33.78125 13.9375 32.472656 12.292969 C 28.519531 7.355469 25.394531 5.925781 21.921875 7.472656 L 21.558594 7.636719 L 21.578125 7.542969 C 21.699219 6.992188 21.761719 5.742188 21.699219 5.164062 C 21.496094 3.296875 20.664062 1.964844 19.003906 0.855469 C 18.480469 0.503906 18.457031 0.5 18.214844 0.632812\"/>\n",
              "</g>\n",
              "      </svg>\n",
              "    "
            ]
          },
          "metadata": {}
        }
      ]
    },
    {
      "cell_type": "code",
      "source": [
        "t.initializeTurtle()\n",
        "t.speed(10)\n",
        "for i in range(70):\n",
        "    t.forward(100)\n",
        "    t.left(49)\n",
        "\n",
        "    #스트링아트"
      ],
      "metadata": {
        "colab": {
          "base_uri": "https://localhost:8080/",
          "height": 520
        },
        "id": "Lji_aYBcQf4S",
        "outputId": "575929f7-e7a6-4eb6-ae77-5414af887d5f"
      },
      "execution_count": null,
      "outputs": [
        {
          "output_type": "display_data",
          "data": {
            "text/plain": [
              "<IPython.core.display.HTML object>"
            ],
            "text/html": [
              "\n",
              "      <svg width=\"800\" height=\"500\">\n",
              "        <rect width=\"100%\" height=\"100%\" fill=\"black\"/>\n",
              "        <line x1=\"400\" y1=\"250\" x2=\"400.0\" y2=\"150.0\" stroke-linecap=\"round\" style=\"stroke:white;stroke-width:4\"/><line x1=\"400.0\" y1=\"150.0\" x2=\"324.529\" y2=\"84.394\" stroke-linecap=\"round\" style=\"stroke:white;stroke-width:4\"/><line x1=\"324.529\" y1=\"84.394\" x2=\"225.502\" y2=\"98.311\" stroke-linecap=\"round\" style=\"stroke:white;stroke-width:4\"/><line x1=\"225.502\" y1=\"98.311\" x2=\"171.038\" y2=\"182.178\" stroke-linecap=\"round\" style=\"stroke:white;stroke-width:4\"/><line x1=\"171.038\" y1=\"182.178\" x2=\"198.602\" y2=\"278.304\" stroke-linecap=\"round\" style=\"stroke:white;stroke-width:4\"/><line x1=\"198.602\" y1=\"278.304\" x2=\"289.233\" y2=\"320.566\" stroke-linecap=\"round\" style=\"stroke:white;stroke-width:4\"/><line x1=\"289.233\" y1=\"320.566\" x2=\"380.588\" y2=\"279.892\" stroke-linecap=\"round\" style=\"stroke:white;stroke-width:4\"/><line x1=\"380.588\" y1=\"279.892\" x2=\"409.825\" y2=\"184.262\" stroke-linecap=\"round\" style=\"stroke:white;stroke-width:4\"/><line x1=\"409.825\" y1=\"184.262\" x2=\"356.833\" y2=\"99.457\" stroke-linecap=\"round\" style=\"stroke:white;stroke-width:4\"/><line x1=\"356.833\" y1=\"99.457\" x2=\"258.064\" y2=\"83.814\" stroke-linecap=\"round\" style=\"stroke:white;stroke-width:4\"/><line x1=\"258.064\" y1=\"83.814\" x2=\"181.46\" y2=\"148.093\" stroke-linecap=\"round\" style=\"stroke:white;stroke-width:4\"/><line x1=\"181.46\" y1=\"148.093\" x2=\"179.715\" y2=\"248.078\" stroke-linecap=\"round\" style=\"stroke:white;stroke-width:4\"/><line x1=\"179.715\" y1=\"248.078\" x2=\"254.029\" y2=\"314.991\" stroke-linecap=\"round\" style=\"stroke:white;stroke-width:4\"/><line x1=\"254.029\" y1=\"314.991\" x2=\"353.284\" y2=\"302.804\" stroke-linecap=\"round\" style=\"stroke:white;stroke-width:4\"/><line x1=\"353.284\" y1=\"302.804\" x2=\"409.203\" y2=\"219.9\" stroke-linecap=\"round\" style=\"stroke:white;stroke-width:4\"/><line x1=\"409.203\" y1=\"219.9\" x2=\"383.321\" y2=\"123.307\" stroke-linecap=\"round\" style=\"stroke:white;stroke-width:4\"/><line x1=\"383.321\" y1=\"123.307\" x2=\"293.442\" y2=\"79.47\" stroke-linecap=\"round\" style=\"stroke:white;stroke-width:4\"/><line x1=\"293.442\" y1=\"79.47\" x2=\"201.392\" y2=\"118.543\" stroke-linecap=\"round\" style=\"stroke:white;stroke-width:4\"/><line x1=\"201.392\" y1=\"118.543\" x2=\"170.49\" y2=\"213.649\" stroke-linecap=\"round\" style=\"stroke:white;stroke-width:4\"/><line x1=\"170.49\" y1=\"213.649\" x2=\"221.994\" y2=\"299.366\" stroke-linecap=\"round\" style=\"stroke:white;stroke-width:4\"/><line x1=\"221.994\" y1=\"299.366\" x2=\"320.475\" y2=\"316.731\" stroke-linecap=\"round\" style=\"stroke:white;stroke-width:4\"/><line x1=\"320.475\" y1=\"316.731\" x2=\"398.19\" y2=\"253.799\" stroke-linecap=\"round\" style=\"stroke:white;stroke-width:4\"/><line x1=\"398.19\" y1=\"253.799\" x2=\"401.68\" y2=\"153.86\" stroke-linecap=\"round\" style=\"stroke:white;stroke-width:4\"/><line x1=\"401.68\" y1=\"153.86\" x2=\"328.545\" y2=\"85.66\" stroke-linecap=\"round\" style=\"stroke:white;stroke-width:4\"/><line x1=\"328.545\" y1=\"85.66\" x2=\"229.093\" y2=\"96.113\" stroke-linecap=\"round\" style=\"stroke:white;stroke-width:4\"/><line x1=\"229.093\" y1=\"96.113\" x2=\"171.735\" y2=\"178.028\" stroke-linecap=\"round\" style=\"stroke:white;stroke-width:4\"/><line x1=\"171.735\" y1=\"178.028\" x2=\"195.927\" y2=\"275.058\" stroke-linecap=\"round\" style=\"stroke:white;stroke-width:4\"/><line x1=\"195.927\" y1=\"275.058\" x2=\"285.028\" y2=\"320.457\" stroke-linecap=\"round\" style=\"stroke:white;stroke-width:4\"/><line x1=\"285.028\" y1=\"320.457\" x2=\"377.746\" y2=\"282.996\" stroke-linecap=\"round\" style=\"stroke:white;stroke-width:4\"/><line x1=\"377.746\" y1=\"282.996\" x2=\"410.303\" y2=\"188.444\" stroke-linecap=\"round\" style=\"stroke:white;stroke-width:4\"/><line x1=\"410.303\" y1=\"188.444\" x2=\"360.303\" y2=\"101.841\" stroke-linecap=\"round\" style=\"stroke:white;stroke-width:4\"/><line x1=\"360.303\" y1=\"101.841\" x2=\"262.14\" y2=\"82.76\" stroke-linecap=\"round\" style=\"stroke:white;stroke-width:4\"/><line x1=\"262.14\" y1=\"82.76\" x2=\"183.339\" y2=\"144.326\" stroke-linecap=\"round\" style=\"stroke:white;stroke-width:4\"/><line x1=\"183.339\" y1=\"144.326\" x2=\"178.105\" y2=\"244.189\" stroke-linecap=\"round\" style=\"stroke:white;stroke-width:4\"/><line x1=\"178.105\" y1=\"244.189\" x2=\"250.039\" y2=\"313.655\" stroke-linecap=\"round\" style=\"stroke:white;stroke-width:4\"/><line x1=\"250.039\" y1=\"313.655\" x2=\"349.658\" y2=\"304.939\" stroke-linecap=\"round\" style=\"stroke:white;stroke-width:4\"/><line x1=\"349.658\" y1=\"304.939\" x2=\"408.437\" y2=\"224.037\" stroke-linecap=\"round\" style=\"stroke:white;stroke-width:4\"/><line x1=\"408.437\" y1=\"224.037\" x2=\"385.942\" y2=\"126.6\" stroke-linecap=\"round\" style=\"stroke:white;stroke-width:4\"/><line x1=\"385.942\" y1=\"126.6\" x2=\"297.647\" y2=\"79.653\" stroke-linecap=\"round\" style=\"stroke:white;stroke-width:4\"/><line x1=\"297.647\" y1=\"79.653\" x2=\"204.289\" y2=\"115.49\" stroke-linecap=\"round\" style=\"stroke:white;stroke-width:4\"/><line x1=\"204.289\" y1=\"115.49\" x2=\"170.087\" y2=\"209.459\" stroke-linecap=\"round\" style=\"stroke:white;stroke-width:4\"/><line x1=\"170.087\" y1=\"209.459\" x2=\"218.568\" y2=\"296.921\" stroke-linecap=\"round\" style=\"stroke:white;stroke-width:4\"/><line x1=\"218.568\" y1=\"296.921\" x2=\"316.383\" y2=\"317.712\" stroke-linecap=\"round\" style=\"stroke:white;stroke-width:4\"/><line x1=\"316.383\" y1=\"317.712\" x2=\"396.247\" y2=\"257.53\" stroke-linecap=\"round\" style=\"stroke:white;stroke-width:4\"/><line x1=\"396.247\" y1=\"257.53\" x2=\"403.223\" y2=\"157.774\" stroke-linecap=\"round\" style=\"stroke:white;stroke-width:4\"/><line x1=\"403.223\" y1=\"157.774\" x2=\"332.512\" y2=\"87.063\" stroke-linecap=\"round\" style=\"stroke:white;stroke-width:4\"/><line x1=\"332.512\" y1=\"87.063\" x2=\"232.756\" y2=\"94.039\" stroke-linecap=\"round\" style=\"stroke:white;stroke-width:4\"/><line x1=\"232.756\" y1=\"94.039\" x2=\"172.574\" y2=\"173.903\" stroke-linecap=\"round\" style=\"stroke:white;stroke-width:4\"/><line x1=\"172.574\" y1=\"173.903\" x2=\"193.365\" y2=\"271.718\" stroke-linecap=\"round\" style=\"stroke:white;stroke-width:4\"/><line x1=\"193.365\" y1=\"271.718\" x2=\"280.827\" y2=\"320.199\" stroke-linecap=\"round\" style=\"stroke:white;stroke-width:4\"/><line x1=\"280.827\" y1=\"320.199\" x2=\"374.796\" y2=\"285.997\" stroke-linecap=\"round\" style=\"stroke:white;stroke-width:4\"/><line x1=\"374.796\" y1=\"285.997\" x2=\"410.633\" y2=\"192.639\" stroke-linecap=\"round\" style=\"stroke:white;stroke-width:4\"/><line x1=\"410.633\" y1=\"192.639\" x2=\"363.686\" y2=\"104.344\" stroke-linecap=\"round\" style=\"stroke:white;stroke-width:4\"/><line x1=\"363.686\" y1=\"104.344\" x2=\"266.249\" y2=\"81.849\" stroke-linecap=\"round\" style=\"stroke:white;stroke-width:4\"/><line x1=\"266.249\" y1=\"81.849\" x2=\"185.347\" y2=\"140.628\" stroke-linecap=\"round\" style=\"stroke:white;stroke-width:4\"/><line x1=\"185.347\" y1=\"140.628\" x2=\"176.631\" y2=\"240.247\" stroke-linecap=\"round\" style=\"stroke:white;stroke-width:4\"/><line x1=\"176.631\" y1=\"240.247\" x2=\"246.097\" y2=\"312.181\" stroke-linecap=\"round\" style=\"stroke:white;stroke-width:4\"/><line x1=\"246.097\" y1=\"312.181\" x2=\"345.96\" y2=\"306.947\" stroke-linecap=\"round\" style=\"stroke:white;stroke-width:4\"/><line x1=\"345.96\" y1=\"306.947\" x2=\"407.526\" y2=\"228.146\" stroke-linecap=\"round\" style=\"stroke:white;stroke-width:4\"/><line x1=\"407.526\" y1=\"228.146\" x2=\"388.445\" y2=\"129.983\" stroke-linecap=\"round\" style=\"stroke:white;stroke-width:4\"/><line x1=\"388.445\" y1=\"129.983\" x2=\"301.842\" y2=\"79.983\" stroke-linecap=\"round\" style=\"stroke:white;stroke-width:4\"/><line x1=\"301.842\" y1=\"79.983\" x2=\"207.29\" y2=\"112.54\" stroke-linecap=\"round\" style=\"stroke:white;stroke-width:4\"/><line x1=\"207.29\" y1=\"112.54\" x2=\"169.829\" y2=\"205.258\" stroke-linecap=\"round\" style=\"stroke:white;stroke-width:4\"/><line x1=\"169.829\" y1=\"205.258\" x2=\"215.228\" y2=\"294.359\" stroke-linecap=\"round\" style=\"stroke:white;stroke-width:4\"/><line x1=\"215.228\" y1=\"294.359\" x2=\"312.258\" y2=\"318.551\" stroke-linecap=\"round\" style=\"stroke:white;stroke-width:4\"/><line x1=\"312.258\" y1=\"318.551\" x2=\"394.173\" y2=\"261.193\" stroke-linecap=\"round\" style=\"stroke:white;stroke-width:4\"/><line x1=\"394.173\" y1=\"261.193\" x2=\"404.626\" y2=\"161.741\" stroke-linecap=\"round\" style=\"stroke:white;stroke-width:4\"/><line x1=\"404.626\" y1=\"161.741\" x2=\"336.426\" y2=\"88.606\" stroke-linecap=\"round\" style=\"stroke:white;stroke-width:4\"/><line x1=\"336.426\" y1=\"88.606\" x2=\"236.487\" y2=\"92.096\" stroke-linecap=\"round\" style=\"stroke:white;stroke-width:4\"/><line x1=\"236.487\" y1=\"92.096\" x2=\"173.555\" y2=\"169.811\" stroke-linecap=\"round\" style=\"stroke:white;stroke-width:4\"/>\n",
              "        <g visibility=visible transform=\"rotate(170,173.555,169.811) translate(155.555, 151.811)\">\n",
              "<path style=\" stroke:none;fill-rule:evenodd;fill:white;fill-opacity:1;\" d=\"M 18.214844 0.632812 C 16.109375 1.800781 15.011719 4.074219 15.074219 7.132812 L 15.085938 7.652344 L 14.785156 7.496094 C 13.476562 6.824219 11.957031 6.671875 10.40625 7.066406 C 8.46875 7.550781 6.515625 9.15625 4.394531 11.992188 C 3.0625 13.777344 2.679688 14.636719 3.042969 15.027344 L 3.15625 15.152344 L 3.519531 15.152344 C 4.238281 15.152344 4.828125 14.886719 8.1875 13.039062 C 9.386719 12.378906 10.371094 11.839844 10.378906 11.839844 C 10.386719 11.839844 10.355469 11.929688 10.304688 12.035156 C 9.832031 13.09375 9.257812 14.820312 8.96875 16.078125 C 7.914062 20.652344 8.617188 24.53125 11.070312 27.660156 C 11.351562 28.015625 11.363281 27.914062 10.972656 28.382812 C 8.925781 30.84375 7.945312 33.28125 8.238281 35.1875 C 8.289062 35.527344 8.28125 35.523438 8.917969 35.523438 C 10.941406 35.523438 13.074219 34.207031 15.136719 31.6875 C 15.359375 31.417969 15.328125 31.425781 15.5625 31.574219 C 16.292969 32.042969 18.023438 32.964844 18.175781 32.964844 C 18.335938 32.964844 19.941406 32.210938 20.828125 31.71875 C 20.996094 31.625 21.136719 31.554688 21.136719 31.558594 C 21.203125 31.664062 21.898438 32.414062 22.222656 32.730469 C 23.835938 34.300781 25.5625 35.132812 27.582031 35.300781 C 27.90625 35.328125 27.9375 35.308594 28.007812 34.984375 C 28.382812 33.242188 27.625 30.925781 25.863281 28.425781 L 25.542969 27.96875 L 25.699219 27.785156 C 28.945312 23.960938 29.132812 18.699219 26.257812 11.96875 L 26.207031 11.84375 L 27.945312 12.703125 C 31.53125 14.476562 32.316406 14.800781 33.03125 14.800781 C 33.976562 14.800781 33.78125 13.9375 32.472656 12.292969 C 28.519531 7.355469 25.394531 5.925781 21.921875 7.472656 L 21.558594 7.636719 L 21.578125 7.542969 C 21.699219 6.992188 21.761719 5.742188 21.699219 5.164062 C 21.496094 3.296875 20.664062 1.964844 19.003906 0.855469 C 18.480469 0.503906 18.457031 0.5 18.214844 0.632812\"/>\n",
              "</g>\n",
              "      </svg>\n",
              "    "
            ]
          },
          "metadata": {}
        }
      ]
    },
    {
      "cell_type": "code",
      "source": [
        "t.initializeTurtle()\n",
        "t.speed(10)\n",
        "for i in range(50):\n",
        "    t.forward(100)\n",
        "    t.left(32)\n",
        "\n",
        "    #스트링아트"
      ],
      "metadata": {
        "colab": {
          "base_uri": "https://localhost:8080/",
          "height": 520
        },
        "id": "XjivTkXMQVfl",
        "outputId": "85161dd8-ec48-4a07-b702-373dae71706f"
      },
      "execution_count": null,
      "outputs": [
        {
          "output_type": "display_data",
          "data": {
            "text/plain": [
              "<IPython.core.display.HTML object>"
            ],
            "text/html": [
              "\n",
              "      <svg width=\"800\" height=\"500\">\n",
              "        <rect width=\"100%\" height=\"100%\" fill=\"black\"/>\n",
              "        <line x1=\"400\" y1=\"250\" x2=\"400.0\" y2=\"150.0\" stroke-linecap=\"round\" style=\"stroke:white;stroke-width:4\"/><line x1=\"400.0\" y1=\"150.0\" x2=\"347.008\" y2=\"65.195\" stroke-linecap=\"round\" style=\"stroke:white;stroke-width:4\"/><line x1=\"347.008\" y1=\"65.195\" x2=\"257.129\" y2=\"21.358\" stroke-linecap=\"round\" style=\"stroke:white;stroke-width:4\"/><line x1=\"257.129\" y1=\"21.358\" x2=\"157.677\" y2=\"31.811\" stroke-linecap=\"round\" style=\"stroke:white;stroke-width:4\"/><line x1=\"157.677\" y1=\"31.811\" x2=\"78.876\" y2=\"93.377\" stroke-linecap=\"round\" style=\"stroke:white;stroke-width:4\"/><line x1=\"78.876\" y1=\"93.377\" x2=\"44.674\" y2=\"187.346\" stroke-linecap=\"round\" style=\"stroke:white;stroke-width:4\"/><line x1=\"44.674\" y1=\"187.346\" x2=\"65.465\" y2=\"285.161\" stroke-linecap=\"round\" style=\"stroke:white;stroke-width:4\"/><line x1=\"65.465\" y1=\"285.161\" x2=\"134.931\" y2=\"357.095\" stroke-linecap=\"round\" style=\"stroke:white;stroke-width:4\"/><line x1=\"134.931\" y1=\"357.095\" x2=\"231.961\" y2=\"381.287\" stroke-linecap=\"round\" style=\"stroke:white;stroke-width:4\"/><line x1=\"231.961\" y1=\"381.287\" x2=\"327.067\" y2=\"350.385\" stroke-linecap=\"round\" style=\"stroke:white;stroke-width:4\"/><line x1=\"327.067\" y1=\"350.385\" x2=\"391.346\" y2=\"273.781\" stroke-linecap=\"round\" style=\"stroke:white;stroke-width:4\"/><line x1=\"391.346\" y1=\"273.781\" x2=\"405.263\" y2=\"174.754\" stroke-linecap=\"round\" style=\"stroke:white;stroke-width:4\"/><line x1=\"405.263\" y1=\"174.754\" x2=\"364.589\" y2=\"83.399\" stroke-linecap=\"round\" style=\"stroke:white;stroke-width:4\"/><line x1=\"364.589\" y1=\"83.399\" x2=\"281.685\" y2=\"27.48\" stroke-linecap=\"round\" style=\"stroke:white;stroke-width:4\"/><line x1=\"281.685\" y1=\"27.48\" x2=\"181.746\" y2=\"23.99\" stroke-linecap=\"round\" style=\"stroke:white;stroke-width:4\"/><line x1=\"181.746\" y1=\"23.99\" x2=\"95.143\" y2=\"73.99\" stroke-linecap=\"round\" style=\"stroke:white;stroke-width:4\"/><line x1=\"95.143\" y1=\"73.99\" x2=\"48.196\" y2=\"162.285\" stroke-linecap=\"round\" style=\"stroke:white;stroke-width:4\"/><line x1=\"48.196\" y1=\"162.285\" x2=\"55.172\" y2=\"262.041\" stroke-linecap=\"round\" style=\"stroke:white;stroke-width:4\"/><line x1=\"55.172\" y1=\"262.041\" x2=\"113.951\" y2=\"342.943\" stroke-linecap=\"round\" style=\"stroke:white;stroke-width:4\"/><line x1=\"113.951\" y1=\"342.943\" x2=\"206.669\" y2=\"380.404\" stroke-linecap=\"round\" style=\"stroke:white;stroke-width:4\"/><line x1=\"206.669\" y1=\"380.404\" x2=\"305.15\" y2=\"363.039\" stroke-linecap=\"round\" style=\"stroke:white;stroke-width:4\"/><line x1=\"305.15\" y1=\"363.039\" x2=\"379.464\" y2=\"296.126\" stroke-linecap=\"round\" style=\"stroke:white;stroke-width:4\"/><line x1=\"379.464\" y1=\"296.126\" x2=\"407.028\" y2=\"200.0\" stroke-linecap=\"round\" style=\"stroke:white;stroke-width:4\"/><line x1=\"407.028\" y1=\"200.0\" x2=\"379.464\" y2=\"103.874\" stroke-linecap=\"round\" style=\"stroke:white;stroke-width:4\"/><line x1=\"379.464\" y1=\"103.874\" x2=\"305.15\" y2=\"36.961\" stroke-linecap=\"round\" style=\"stroke:white;stroke-width:4\"/><line x1=\"305.15\" y1=\"36.961\" x2=\"206.669\" y2=\"19.596\" stroke-linecap=\"round\" style=\"stroke:white;stroke-width:4\"/><line x1=\"206.669\" y1=\"19.596\" x2=\"113.951\" y2=\"57.057\" stroke-linecap=\"round\" style=\"stroke:white;stroke-width:4\"/><line x1=\"113.951\" y1=\"57.057\" x2=\"55.172\" y2=\"137.959\" stroke-linecap=\"round\" style=\"stroke:white;stroke-width:4\"/><line x1=\"55.172\" y1=\"137.959\" x2=\"48.196\" y2=\"237.715\" stroke-linecap=\"round\" style=\"stroke:white;stroke-width:4\"/><line x1=\"48.196\" y1=\"237.715\" x2=\"95.143\" y2=\"326.01\" stroke-linecap=\"round\" style=\"stroke:white;stroke-width:4\"/><line x1=\"95.143\" y1=\"326.01\" x2=\"181.746\" y2=\"376.01\" stroke-linecap=\"round\" style=\"stroke:white;stroke-width:4\"/><line x1=\"181.746\" y1=\"376.01\" x2=\"281.685\" y2=\"372.52\" stroke-linecap=\"round\" style=\"stroke:white;stroke-width:4\"/><line x1=\"281.685\" y1=\"372.52\" x2=\"364.589\" y2=\"316.601\" stroke-linecap=\"round\" style=\"stroke:white;stroke-width:4\"/><line x1=\"364.589\" y1=\"316.601\" x2=\"405.263\" y2=\"225.246\" stroke-linecap=\"round\" style=\"stroke:white;stroke-width:4\"/><line x1=\"405.263\" y1=\"225.246\" x2=\"391.346\" y2=\"126.219\" stroke-linecap=\"round\" style=\"stroke:white;stroke-width:4\"/><line x1=\"391.346\" y1=\"126.219\" x2=\"327.067\" y2=\"49.615\" stroke-linecap=\"round\" style=\"stroke:white;stroke-width:4\"/><line x1=\"327.067\" y1=\"49.615\" x2=\"231.961\" y2=\"18.713\" stroke-linecap=\"round\" style=\"stroke:white;stroke-width:4\"/><line x1=\"231.961\" y1=\"18.713\" x2=\"134.931\" y2=\"42.905\" stroke-linecap=\"round\" style=\"stroke:white;stroke-width:4\"/><line x1=\"134.931\" y1=\"42.905\" x2=\"65.465\" y2=\"114.839\" stroke-linecap=\"round\" style=\"stroke:white;stroke-width:4\"/><line x1=\"65.465\" y1=\"114.839\" x2=\"44.674\" y2=\"212.654\" stroke-linecap=\"round\" style=\"stroke:white;stroke-width:4\"/><line x1=\"44.674\" y1=\"212.654\" x2=\"78.876\" y2=\"306.623\" stroke-linecap=\"round\" style=\"stroke:white;stroke-width:4\"/><line x1=\"78.876\" y1=\"306.623\" x2=\"157.677\" y2=\"368.189\" stroke-linecap=\"round\" style=\"stroke:white;stroke-width:4\"/><line x1=\"157.677\" y1=\"368.189\" x2=\"257.129\" y2=\"378.642\" stroke-linecap=\"round\" style=\"stroke:white;stroke-width:4\"/><line x1=\"257.129\" y1=\"378.642\" x2=\"347.008\" y2=\"334.805\" stroke-linecap=\"round\" style=\"stroke:white;stroke-width:4\"/><line x1=\"347.008\" y1=\"334.805\" x2=\"400.0\" y2=\"250.0\" stroke-linecap=\"round\" style=\"stroke:white;stroke-width:4\"/><line x1=\"400.0\" y1=\"250.0\" x2=\"400.0\" y2=\"150.0\" stroke-linecap=\"round\" style=\"stroke:white;stroke-width:4\"/><line x1=\"400.0\" y1=\"150.0\" x2=\"347.008\" y2=\"65.195\" stroke-linecap=\"round\" style=\"stroke:white;stroke-width:4\"/><line x1=\"347.008\" y1=\"65.195\" x2=\"257.129\" y2=\"21.358\" stroke-linecap=\"round\" style=\"stroke:white;stroke-width:4\"/><line x1=\"257.129\" y1=\"21.358\" x2=\"157.677\" y2=\"31.811\" stroke-linecap=\"round\" style=\"stroke:white;stroke-width:4\"/><line x1=\"157.677\" y1=\"31.811\" x2=\"78.876\" y2=\"93.377\" stroke-linecap=\"round\" style=\"stroke:white;stroke-width:4\"/>\n",
              "        <g visibility=visible transform=\"rotate(200,78.876,93.377) translate(60.876000000000005, 75.377)\">\n",
              "<path style=\" stroke:none;fill-rule:evenodd;fill:white;fill-opacity:1;\" d=\"M 18.214844 0.632812 C 16.109375 1.800781 15.011719 4.074219 15.074219 7.132812 L 15.085938 7.652344 L 14.785156 7.496094 C 13.476562 6.824219 11.957031 6.671875 10.40625 7.066406 C 8.46875 7.550781 6.515625 9.15625 4.394531 11.992188 C 3.0625 13.777344 2.679688 14.636719 3.042969 15.027344 L 3.15625 15.152344 L 3.519531 15.152344 C 4.238281 15.152344 4.828125 14.886719 8.1875 13.039062 C 9.386719 12.378906 10.371094 11.839844 10.378906 11.839844 C 10.386719 11.839844 10.355469 11.929688 10.304688 12.035156 C 9.832031 13.09375 9.257812 14.820312 8.96875 16.078125 C 7.914062 20.652344 8.617188 24.53125 11.070312 27.660156 C 11.351562 28.015625 11.363281 27.914062 10.972656 28.382812 C 8.925781 30.84375 7.945312 33.28125 8.238281 35.1875 C 8.289062 35.527344 8.28125 35.523438 8.917969 35.523438 C 10.941406 35.523438 13.074219 34.207031 15.136719 31.6875 C 15.359375 31.417969 15.328125 31.425781 15.5625 31.574219 C 16.292969 32.042969 18.023438 32.964844 18.175781 32.964844 C 18.335938 32.964844 19.941406 32.210938 20.828125 31.71875 C 20.996094 31.625 21.136719 31.554688 21.136719 31.558594 C 21.203125 31.664062 21.898438 32.414062 22.222656 32.730469 C 23.835938 34.300781 25.5625 35.132812 27.582031 35.300781 C 27.90625 35.328125 27.9375 35.308594 28.007812 34.984375 C 28.382812 33.242188 27.625 30.925781 25.863281 28.425781 L 25.542969 27.96875 L 25.699219 27.785156 C 28.945312 23.960938 29.132812 18.699219 26.257812 11.96875 L 26.207031 11.84375 L 27.945312 12.703125 C 31.53125 14.476562 32.316406 14.800781 33.03125 14.800781 C 33.976562 14.800781 33.78125 13.9375 32.472656 12.292969 C 28.519531 7.355469 25.394531 5.925781 21.921875 7.472656 L 21.558594 7.636719 L 21.578125 7.542969 C 21.699219 6.992188 21.761719 5.742188 21.699219 5.164062 C 21.496094 3.296875 20.664062 1.964844 19.003906 0.855469 C 18.480469 0.503906 18.457031 0.5 18.214844 0.632812\"/>\n",
              "</g>\n",
              "      </svg>\n",
              "    "
            ]
          },
          "metadata": {}
        }
      ]
    }
  ]
}